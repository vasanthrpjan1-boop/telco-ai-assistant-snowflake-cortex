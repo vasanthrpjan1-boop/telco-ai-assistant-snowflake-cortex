{
  "cells": [
    {
      "cell_type": "code",
      "execution_count": null,
      "metadata": {
        "vscode": {
          "languageId": "plaintext"
        }
      },
      "outputs": [],
      "source": [
        "# 🌐 Telco Network Performance Analysis\n",
        "\n",
        "This notebook demonstrates how to analyze network performance data using Snowflake and AI capabilities for telecommunications operations.\n",
        "\n",
        "## Objectives:\n",
        "- Analyze network latency and throughput across regions\n",
        "- Identify performance bottlenecks and optimization opportunities\n",
        "- Use Cortex AI for predictive analytics on network performance\n",
        "- Generate insights for network planning and investment decisions\n"
      ]
    },
    {
      "cell_type": "code",
      "execution_count": null,
      "metadata": {},
      "outputs": [],
      "source": [
        "# Import required libraries\n",
        "import snowflake.snowpark as snowpark\n",
        "from snowflake.snowpark import Session\n",
        "import pandas as pd\n",
        "import numpy as np\n",
        "import plotly.express as px\n",
        "import plotly.graph_objects as go\n",
        "from plotly.subplots import make_subplots\n",
        "import warnings\n",
        "warnings.filterwarnings('ignore')\n",
        "\n",
        "print(\"📊 Libraries imported successfully!\")\n",
        "print(f\"🔗 Snowpark version: {snowpark.__version__}\")\n"
      ]
    },
    {
      "cell_type": "code",
      "execution_count": null,
      "metadata": {},
      "outputs": [],
      "source": [
        "# Get Snowpark session\n",
        "session = snowpark.context.get_active_session()\n",
        "print(f\"❄️ Connected to Snowflake: {session.get_current_account()}\")\n",
        "print(f\"🗄️ Current database: {session.get_current_database()}\")\n",
        "print(f\"📂 Current schema: {session.get_current_schema()}\")\n"
      ]
    },
    {
      "cell_type": "code",
      "execution_count": null,
      "metadata": {},
      "outputs": [],
      "source": [
        "## 📈 Network Performance Overview\n"
      ]
    },
    {
      "cell_type": "code",
      "execution_count": null,
      "metadata": {},
      "outputs": [],
      "source": [
        "# Get network performance summary\n",
        "print(\"📊 Analyzing network performance metrics...\")\n",
        "\n",
        "# Get current database and schema for fully qualified table names\n",
        "current_db = session.get_current_database()\n",
        "current_schema = session.get_current_schema()\n",
        "\n",
        "network_summary_query = f\"\"\"\n",
        "SELECT \n",
        "    network_type,\n",
        "    region,\n",
        "    COUNT(DISTINCT cell_tower_id) as tower_count,\n",
        "    AVG(latency_ms) as avg_latency_ms,\n",
        "    AVG(throughput_mbps) as avg_throughput_mbps,\n",
        "    AVG(packet_loss_percent) as avg_packet_loss,\n",
        "    AVG(uptime_percent) as avg_uptime\n",
        "FROM {current_db}.{current_schema}.NETWORK_PERFORMANCE \n",
        "GROUP BY network_type, region\n",
        "ORDER BY network_type, avg_latency_ms\n",
        "\"\"\"\n",
        "\n",
        "try:\n",
        "    network_summary_df = session.sql(network_summary_query).to_pandas()\n",
        "    print(\"✅ Network Performance Summary:\")\n",
        "    display(network_summary_df)\n",
        "    \n",
        "    if network_summary_df.empty:\n",
        "        print(\"📭 No network performance data found. Please check if data has been loaded.\")\n",
        "        print(\"💡 Run the configure_attendee_account.template.sql script to load sample data.\")\n",
        "        \n",
        "except Exception as e:\n",
        "    print(f\"❌ Error executing query: {e}\")\n",
        "    print(f\"🔍 Trying to query: {current_db}.{current_schema}.NETWORK_PERFORMANCE\")\n",
        "    print(\"💡 Solutions:\")\n",
        "    print(\"1. Run configure_attendee_account.template.sql to create tables and load data\")\n",
        "    print(\"2. Verify you have SELECT permissions on the NETWORK_PERFORMANCE table\")\n",
        "    print(\"3. Check that you're in the correct database and schema context\")\n"
      ]
    },
    {
      "cell_type": "code",
      "execution_count": null,
      "metadata": {},
      "outputs": [],
      "source": [
        "# Create network performance visualization\n",
        "print(\"📈 Creating network performance dashboard...\")\n",
        "\n",
        "try:\n",
        "    if 'network_summary_df' in locals() and not network_summary_df.empty:\n",
        "        fig = make_subplots(\n",
        "            rows=2, cols=2,\n",
        "            subplot_titles=('Average Latency by Network Type', 'Throughput by Region', \n",
        "                           'Network Uptime Comparison', 'Packet Loss Analysis')\n",
        "        )\n",
        "\n",
        "        # Latency by network type\n",
        "        latency_by_type = network_summary_df.groupby('NETWORK_TYPE')['AVG_LATENCY_MS'].mean().reset_index()\n",
        "        fig.add_trace(\n",
        "            go.Bar(x=latency_by_type['NETWORK_TYPE'], y=latency_by_type['AVG_LATENCY_MS'], \n",
        "                   name='Latency (ms)', marker_color='lightblue'),\n",
        "            row=1, col=1\n",
        "        )\n",
        "\n",
        "        # Throughput by region\n",
        "        throughput_by_region = network_summary_df.groupby('REGION')['AVG_THROUGHPUT_MBPS'].mean().reset_index()\n",
        "        fig.add_trace(\n",
        "            go.Bar(x=throughput_by_region['REGION'], y=throughput_by_region['AVG_THROUGHPUT_MBPS'],\n",
        "                   name='Throughput (Mbps)', marker_color='lightgreen'),\n",
        "            row=1, col=2\n",
        "        )\n",
        "\n",
        "        fig.update_layout(height=600, title_text=\"📊 Network Performance Metrics Dashboard\", showlegend=False)\n",
        "        fig.show()\n",
        "        \n",
        "        print(\"\\n💡 Network Performance Insights:\")\n",
        "        print(\"🔵 Lower latency = Better user experience\")\n",
        "        print(\"📈 Higher throughput = Better data capacity\")\n",
        "        print(\"🎯 Use these metrics for network optimization and planning\")\n",
        "    else:\n",
        "        print(\"⚠️ No network performance data available for visualization\")\n",
        "        print(\"🔧 Please ensure the NETWORK_PERFORMANCE table exists and contains data\")\n",
        "        print(\"📋 Sample data structure expected:\")\n",
        "        print(\"   - NETWORK_TYPE (text: 5G, 4G, 3G)\")\n",
        "        print(\"   - REGION (text)\")\n",
        "        print(\"   - CELL_TOWER_ID (integer)\")\n",
        "        print(\"   - LATENCY_MS (decimal)\")\n",
        "        print(\"   - THROUGHPUT_MBPS (decimal)\")\n",
        "        print(\"   - PACKET_LOSS_PERCENT (decimal)\")\n",
        "        print(\"   - UPTIME_PERCENT (decimal)\")\n",
        "        \n",
        "except Exception as e:\n",
        "    print(f\"❌ Error creating visualization: {e}\")\n",
        "    print(\"💡 Make sure the previous cell executed successfully\")\n"
      ]
    }
  ],
  "metadata": {
    "language_info": {
      "name": "python"
    }
  },
  "nbformat": 4,
  "nbformat_minor": 2
}
