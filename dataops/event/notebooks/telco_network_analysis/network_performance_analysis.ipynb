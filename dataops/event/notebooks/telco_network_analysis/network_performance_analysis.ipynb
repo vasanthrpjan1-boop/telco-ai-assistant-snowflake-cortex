{
  "cells": [
    {
      "cell_type": "markdown",
      "metadata": {},
      "source": [
        "# 🌐 Telco Network Performance Analysis\n",
        "\n",
        "This notebook demonstrates how to analyze network performance data using Snowflake and AI capabilities for telecommunications operations.\n",
        "\n",
        "## Objectives:\n",
        "- Analyze network latency and throughput across regions\n",
        "- Identify performance bottlenecks and optimization opportunities\n",
        "- Use Cortex AI for predictive analytics on network performance\n",
        "- Generate insights for network planning and investment decisions"
      ]
    },
    {
      "cell_type": "code",
      "execution_count": null,
      "metadata": {},
      "outputs": [],
      "source": [
        "# Import required libraries\n",
        "import snowflake.snowpark as snowpark\n",
        "from snowflake.snowpark import Session\n",
        "import pandas as pd\n",
        "import numpy as np\n",
        "import plotly.express as px\n",
        "import plotly.graph_objects as go\n",
        "from plotly.subplots import make_subplots\n",
        "import warnings\n",
        "warnings.filterwarnings('ignore')\n",
        "\n",
        "print(\"📊 Libraries imported successfully!\")\n",
        "print(f\"🔗 Snowpark version: {snowpark.__version__}\")"
      ]
    },
    {
      "cell_type": "code",
      "execution_count": null,
      "metadata": {},
      "outputs": [],
      "source": [
        "# Get Snowpark session\n",
        "session = snowpark.context.get_active_session()\n",
        "print(f\"❄️ Connected to Snowflake: {session.get_current_account()}\")\n",
        "print(f\"🗄️ Current database: {session.get_current_database()}\")\n",
        "print(f\"📂 Current schema: {session.get_current_schema()}\")"
      ]
    },
    {
      "cell_type": "markdown",
      "metadata": {},
      "source": [
        "## 📈 Network Performance Overview"
      ]
    },
    {
      "cell_type": "code",
      "execution_count": null,
      "metadata": {},
      "outputs": [],
      "source": [
        "# Get network performance summary\n",
        "print(\"📊 Analyzing network performance metrics...\")\n",
        "\n",
        "# Get current database and use correct schema for tables\n",
        "current_db = session.get_current_database()\n",
        "current_schema = session.get_current_schema()\n",
        "# Tables are created in DEFAULT_SCHEMA, not the notebook schema (NOTEBOOKS)\n",
        "data_schema = \"DEFAULT_SCHEMA\"\n",
        "\n",
        "print(f\"🔍 Notebook running in schema: {current_schema}\")\n",
        "print(f\"📊 Querying data from schema: {data_schema}\")\n",
        "\n",
        "network_summary_query = f\"\"\"\n",
        "SELECT \n",
        "    network_type,\n",
        "    region,\n",
        "    COUNT(DISTINCT cell_tower_id) as tower_count,\n",
        "    AVG(latency_ms) as avg_latency_ms,\n",
        "    AVG(throughput_mbps) as avg_throughput_mbps,\n",
        "    AVG(packet_loss_percent) as avg_packet_loss,\n",
        "    AVG(uptime_percent) as avg_uptime\n",
        "FROM {current_db}.{data_schema}.NETWORK_PERFORMANCE \n",
        "WHERE measurement_timestamp >= DATEADD(month, -3, CURRENT_DATE())\n",
        "GROUP BY network_type, region\n",
        "ORDER BY network_type, avg_latency_ms\n",
        "\"\"\"\n",
        "\n",
        "try:\n",
        "    network_summary_df = session.sql(network_summary_query).to_pandas()\n",
        "    print(\"✅ Network Performance Summary:\")\n",
        "    display(network_summary_df)\n",
        "    \n",
        "    if network_summary_df.empty:\n",
        "        print(\"📭 No network performance data found. Please check if data has been loaded.\")\n",
        "        print(\"💡 Run the configure_attendee_account.template.sql script to load sample data.\")\n",
        "        \n",
        "except Exception as e:\n",
        "    print(f\"❌ Error executing query: {e}\")\n",
        "    print(f\"🔍 Trying to query: {current_db}.{data_schema}.NETWORK_PERFORMANCE\")\n",
        "    print(\"💡 Solutions:\")\n",
        "    print(\"1. Run configure_attendee_account.template.sql to create tables and load data\")\n",
        "    print(\"2. Verify you have SELECT permissions on the NETWORK_PERFORMANCE table\")\n",
        "    print(f\"3. Check that tables exist in {data_schema} schema (not {current_schema})\")\n",
        "    print(\"4. Ensure you're connected to the correct database\")"
      ]
    },
    {
      "cell_type": "code",
      "execution_count": null,
      "metadata": {},
      "outputs": [],
      "source": [
        "# Create network performance dashboard\n",
        "print(\"📈 Creating network performance dashboard...\")\n",
        "\n",
        "try:\n",
        "    if 'network_summary_df' in locals() and not network_summary_df.empty:\n",
        "        # Create simple bar chart for latency by region\n",
        "        fig = px.bar(network_summary_df, \n",
        "                    x='REGION', \n",
        "                    y='AVG_LATENCY_MS',\n",
        "                    color='NETWORK_TYPE',\n",
        "                    title='🌐 Average Network Latency by Region',\n",
        "                    labels={'AVG_LATENCY_MS': 'Average Latency (ms)', 'REGION': 'Region'})\n",
        "        \n",
        "        fig.update_layout(height=500, width=900)\n",
        "        fig.show()\n",
        "        \n",
        "        print(\"\\n💡 Network Performance Insights:\")\n",
        "        print(\"📊 Analyze latency patterns across regions\")\n",
        "        print(\"🚀 Identify high-throughput network types\")\n",
        "        print(\"⚠️ Monitor packet loss for quality issues\")\n",
        "        print(\"⏰ Track uptime for SLA compliance\")\n",
        "        \n",
        "    else:\n",
        "        print(\"⚠️ No network performance data available for visualization\")\n",
        "        print(\"🔧 Please ensure the NETWORK_PERFORMANCE table exists and contains data\")\n",
        "        print(\"📋 Sample data structure expected:\")\n",
        "        print(\"   - NETWORK_TYPE (text)\")\n",
        "        print(\"   - REGION (text)\")\n",
        "        print(\"   - CELL_TOWER_ID (integer)\")\n",
        "        print(\"   - LATENCY_MS (decimal)\")\n",
        "        print(\"   - THROUGHPUT_MBPS (decimal)\")\n",
        "        print(\"   - PACKET_LOSS_PERCENT (decimal)\")\n",
        "        print(\"   - UPTIME_PERCENT (decimal)\")\n",
        "        print(\"   - MEASUREMENT_TIMESTAMP (timestamp)\")\n",
        "        \n",
        "except Exception as e:\n",
        "    print(f\"❌ Error creating visualization: {e}\")\n",
        "    print(\"💡 Make sure the previous cell executed successfully\")"
      ]
    }
  ],
  "metadata": {
    "kernelspec": {
      "display_name": "Python 3",
      "language": "python",
      "name": "python3"
    },
    "language_info": {
      "name": "python",
      "version": "3.8.0"
    }
  },
  "nbformat": 4,
  "nbformat_minor": 2
}
