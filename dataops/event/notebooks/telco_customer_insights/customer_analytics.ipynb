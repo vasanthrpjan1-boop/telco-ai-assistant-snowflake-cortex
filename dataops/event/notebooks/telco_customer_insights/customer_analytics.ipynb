{
  "cells": [
    {
      "cell_type": "code",
      "execution_count": null,
      "metadata": {
        "vscode": {
          "languageId": "plaintext"
        }
      },
      "outputs": [],
      "source": [
        "# 👥 Telco Customer Analytics & Insights\n",
        "\n",
        "This notebook provides comprehensive analysis of customer usage patterns, service plans, and revenue optimization opportunities for telecommunications operations.\n",
        "\n",
        "## Key Areas:\n",
        "- Customer segmentation and behavior analysis\n",
        "- Service plan performance and optimization\n",
        "- Revenue analysis and forecasting\n",
        "- Customer satisfaction and retention insights\n"
      ]
    },
    {
      "cell_type": "code",
      "execution_count": null,
      "metadata": {},
      "outputs": [],
      "source": [
        "# Import libraries and establish connection\n",
        "import snowflake.snowpark as snowpark\n",
        "import pandas as pd\n",
        "import plotly.express as px\n",
        "import plotly.graph_objects as go\n",
        "\n",
        "session = snowpark.context.get_active_session()\n",
        "print(f\"📱 Connected to Telco Analytics Database: {session.get_current_database()}\")\n"
      ]
    },
    {
      "cell_type": "code",
      "execution_count": null,
      "metadata": {},
      "outputs": [],
      "source": [
        "# Customer Usage Analysis\n",
        "customer_analysis_query = \"\"\"\n",
        "SELECT \n",
        "    service_plan,\n",
        "    device_type,\n",
        "    COUNT(DISTINCT customer_id) as customer_count,\n",
        "    AVG(data_usage_gb) as avg_data_usage,\n",
        "    AVG(voice_minutes) as avg_voice_minutes,\n",
        "    AVG(monthly_bill_amount) as avg_monthly_bill\n",
        "FROM customer_usage \n",
        "WHERE usage_date >= DATEADD(month, -1, CURRENT_DATE())\n",
        "GROUP BY service_plan, device_type\n",
        "ORDER BY customer_count DESC\n",
        "\"\"\"\n",
        "\n",
        "customer_df = session.sql(customer_analysis_query).to_pandas()\n",
        "print(\"👥 Customer Usage Summary by Service Plan & Device:\")\n",
        "display(customer_df)\n"
      ]
    },
    {
      "cell_type": "code",
      "execution_count": null,
      "metadata": {},
      "outputs": [],
      "source": [
        "# Create customer segmentation visualization\n",
        "fig = px.scatter(customer_df, \n",
        "                x='AVG_DATA_USAGE', \n",
        "                y='AVG_MONTHLY_BILL',\n",
        "                size='CUSTOMER_COUNT',\n",
        "                color='SERVICE_PLAN',\n",
        "                hover_data=['DEVICE_TYPE'],\n",
        "                title='📊 Customer Segmentation: Data Usage vs Monthly Bill',\n",
        "                labels={'AVG_DATA_USAGE': 'Average Data Usage (GB)',\n",
        "                       'AVG_MONTHLY_BILL': 'Average Monthly Bill ($)'})\n",
        "\n",
        "fig.update_layout(height=600, width=900)\n",
        "fig.show()\n",
        "\n",
        "print(\"💡 Customer Insights:\")\n",
        "print(\"🔵 Larger bubbles = More customers in that segment\")\n",
        "print(\"📈 Top segments show high-value customers\")\n",
        "print(\"🎯 Use this for targeted marketing and service optimization\")\n"
      ]
    }
  ],
  "metadata": {
    "language_info": {
      "name": "python"
    }
  },
  "nbformat": 4,
  "nbformat_minor": 2
}
