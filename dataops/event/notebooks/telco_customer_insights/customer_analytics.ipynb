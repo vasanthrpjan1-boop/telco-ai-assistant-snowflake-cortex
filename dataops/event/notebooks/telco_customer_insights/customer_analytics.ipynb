{
  "cells": [
    {
      "cell_type": "code",
      "execution_count": null,
      "metadata": {
        "vscode": {
          "languageId": "plaintext"
        }
      },
      "outputs": [],
      "source": [
        "# This cell was converted from markdown to code to fix syntax error\n",
        "print(\"# 👥 Telco Customer Analytics & Insights\")\n",
        "print()\n",
        "print(\"This notebook provides comprehensive analysis of customer usage patterns,\")\n",
        "print(\"service plans, and revenue optimization opportunities for telecommunications operations.\")\n",
        "print()\n",
        "print(\"## Key Areas:\")\n",
        "print(\"- Customer segmentation and behavior analysis\")\n",
        "print(\"- Service plan performance and optimization\") \n",
        "print(\"- Revenue analysis and forecasting\")\n",
        "print(\"- Customer satisfaction and retention insights\")\n"
      ]
    },
    {
      "cell_type": "code",
      "execution_count": null,
      "metadata": {},
      "outputs": [],
      "source": [
        "# Import libraries and establish connection\n",
        "import snowflake.snowpark as snowpark\n",
        "import pandas as pd\n",
        "import plotly.express as px\n",
        "import plotly.graph_objects as go\n",
        "\n",
        "# Get Snowpark session and set context\n",
        "session = snowpark.context.get_active_session()\n",
        "print(f\"❄️ Connected to Snowflake: {session.get_current_account()}\")\n",
        "print(f\"🗄️ Current database: {session.get_current_database()}\")\n",
        "print(f\"📂 Current schema: {session.get_current_schema()}\")\n"
      ]
    },
    {
      "cell_type": "code",
      "execution_count": null,
      "metadata": {},
      "outputs": [],
      "source": [
        "# Customer Usage Analysis\n",
        "print(\"📊 Analyzing customer usage patterns...\")\n",
        "\n",
        "# Get current database and use correct schema for tables\n",
        "current_db = session.get_current_database()\n",
        "current_schema = session.get_current_schema()\n",
        "# Tables are created in DEFAULT_SCHEMA, not the notebook schema (NOTEBOOKS)\n",
        "data_schema = \"DEFAULT_SCHEMA\"\n",
        "\n",
        "print(f\"🔍 Notebook running in schema: {current_schema}\")\n",
        "print(f\"📊 Querying data from schema: {data_schema}\")\n",
        "\n",
        "customer_analysis_query = f\"\"\"\n",
        "SELECT \n",
        "    service_plan,\n",
        "    device_type,\n",
        "    COUNT(DISTINCT customer_id) as customer_count,\n",
        "    AVG(data_usage_gb) as avg_data_usage,\n",
        "    AVG(voice_minutes) as avg_voice_minutes,\n",
        "    AVG(monthly_bill_amount) as avg_monthly_bill\n",
        "FROM {current_db}.{data_schema}.CUSTOMER_USAGE \n",
        "WHERE usage_date >= DATEADD(month, -3, CURRENT_DATE())\n",
        "GROUP BY service_plan, device_type\n",
        "ORDER BY customer_count DESC\n",
        "\"\"\"\n",
        "\n",
        "try:\n",
        "    customer_df = session.sql(customer_analysis_query).to_pandas()\n",
        "    print(\"✅ Customer Usage Summary by Service Plan & Device:\")\n",
        "    display(customer_df)\n",
        "    \n",
        "    if customer_df.empty:\n",
        "        print(\"📭 No customer usage data found. Please check if data has been loaded.\")\n",
        "        print(\"💡 Run the configure_attendee_account.template.sql script to load sample data.\")\n",
        "        \n",
        "except Exception as e:\n",
        "    print(f\"❌ Error executing query: {e}\")\n",
        "    print(f\"🔍 Trying to query: {current_db}.{data_schema}.CUSTOMER_USAGE\")\n",
        "    print(\"💡 Solutions:\")\n",
        "    print(\"1. Run configure_attendee_account.template.sql to create tables and load data\")\n",
        "    print(\"2. Verify you have SELECT permissions on the CUSTOMER_USAGE table\")\n",
        "    print(f\"3. Check that tables exist in {data_schema} schema (not {current_schema})\")\n",
        "    print(\"4. Ensure you're connected to the correct database\")\n"
      ]
    },
    {
      "cell_type": "code",
      "execution_count": null,
      "metadata": {},
      "outputs": [],
      "source": [
        "# Create customer segmentation visualization\n",
        "print(\"📈 Creating customer segmentation visualization...\")\n",
        "\n",
        "try:\n",
        "    if 'customer_df' in locals() and not customer_df.empty:\n",
        "        fig = px.scatter(customer_df, \n",
        "                        x='AVG_DATA_USAGE', \n",
        "                        y='AVG_MONTHLY_BILL',\n",
        "                        size='CUSTOMER_COUNT',\n",
        "                        color='SERVICE_PLAN',\n",
        "                        hover_data=['DEVICE_TYPE'],\n",
        "                        title='📊 Customer Segmentation: Data Usage vs Monthly Bill',\n",
        "                        labels={'AVG_DATA_USAGE': 'Average Data Usage (GB)',\n",
        "                               'AVG_MONTHLY_BILL': 'Average Monthly Bill ($)'})\n",
        "\n",
        "        fig.update_layout(height=600, width=900)\n",
        "        fig.show()\n",
        "\n",
        "        print(\"\\n💡 Customer Insights:\")\n",
        "        print(\"🔵 Larger bubbles = More customers in that segment\")\n",
        "        print(\"📈 Top segments show high-value customers\")\n",
        "        print(\"🎯 Use this for targeted marketing and service optimization\")\n",
        "    else:\n",
        "        print(\"⚠️ No customer data available for visualization\")\n",
        "        print(\"🔧 Please ensure the CUSTOMER_USAGE table exists and contains data\")\n",
        "        print(\"📋 Sample data structure expected:\")\n",
        "        print(\"   - SERVICE_PLAN (text)\")\n",
        "        print(\"   - DEVICE_TYPE (text)\")\n",
        "        print(\"   - CUSTOMER_ID (integer)\")\n",
        "        print(\"   - DATA_USAGE_GB (decimal)\")\n",
        "        print(\"   - VOICE_MINUTES (integer)\")\n",
        "        print(\"   - MONTHLY_BILL_AMOUNT (decimal)\")\n",
        "        print(\"   - USAGE_DATE (date)\")\n",
        "        \n",
        "except Exception as e:\n",
        "    print(f\"❌ Error creating visualization: {e}\")\n",
        "    print(\"💡 Make sure the previous cell executed successfully\")\n"
      ]
    }
  ],
  "metadata": {
    "language_info": {
      "name": "python"
    }
  },
  "nbformat": 4,
  "nbformat_minor": 2
}
