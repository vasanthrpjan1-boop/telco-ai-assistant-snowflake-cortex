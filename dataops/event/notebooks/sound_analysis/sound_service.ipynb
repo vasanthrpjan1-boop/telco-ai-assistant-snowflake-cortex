{
 "cells": [
  {
   "cell_type": "markdown",
   "id": "463050b4-bef4-4c6b-bedf-d1851064869b",
   "metadata": {
    "collapsed": false,
    "name": "heading_create_service",
    "resultHeight": 183
   },
   "source": [
    "### Create a Service to transcript the earnings call\n",
    "this service is leveraging a container with whisper running on it - leverages pytorch (a deap leaning framework) to parse and transcribe the text.  Follow the instructions here to set up the container which I used.\n",
    "\n",
    "- git hub https://github.com/michaelgorkow/scs_whisper, \n",
    "- blog post https://github.com/michaelgorkow/scs_whisper"
   ]
  },
  {
   "cell_type": "code",
   "execution_count": null,
   "id": "6e93ce76-16ac-4060-b673-2674cbd4b611",
   "metadata": {
    "collapsed": false,
    "language": "sql",
    "name": "cell1",
    "resultHeight": 111
   },
   "outputs": [],
   "source": [
    "USE ROLE ACCOUNTADMIN;\n",
    "ALTER COMPUTE POOL GPU_COMPUTE_FOR_SOUND_TO_TEXT_MED SUSPEND;\n"
   ]
  },
  {
   "cell_type": "code",
   "execution_count": null,
   "id": "3775908f-ca36-4846-8f38-5adca39217f2",
   "metadata": {
    "collapsed": false,
    "language": "sql",
    "name": "create_service_2",
    "resultHeight": 0
   },
   "outputs": [],
   "source": [
    "USE ROLE CONTAINER_RUNTIME_LAB_USER;\n",
    "\n",
    "CREATE SERVICE if not exists SOUND.WHISPER_APP\n",
    "  IN COMPUTE POOL gpu_compute_for_sound_to_text_MED\n",
    "  FROM @SOUND.WHISPER_APP\n",
    "  SPEC='spec.yml'\n",
    "  MIN_INSTANCES=1\n",
    "  MAX_INSTANCES=3\n",
    "  EXTERNAL_ACCESS_INTEGRATIONS = (CONTAINER_ACCESS_INTEGRATION);\n",
    "\n",
    "ALTER SERVICE SOUND.WHISPER_APP RESUME;\n"
   ]
  },
  {
   "cell_type": "code",
   "execution_count": null,
   "id": "6d580ebb-9897-4202-a791-1f761c9d3edc",
   "metadata": {
    "codeCollapsed": false,
    "collapsed": false,
    "language": "sql",
    "name": "is_the_service_running",
    "resultHeight": 0
   },
   "outputs": [],
   "source": [
    "CALL SYSTEM$GET_SERVICE_STATUS('SOUND.WHISPER_APP')"
   ]
  },
  {
   "cell_type": "code",
   "execution_count": null,
   "id": "e2f5b171-9fec-40bc-a3ae-12247a9c1c3c",
   "metadata": {
    "codeCollapsed": false,
    "collapsed": false,
    "language": "sql",
    "name": "view_logs",
    "resultHeight": 0
   },
   "outputs": [],
   "source": [
    "USE SCHEMA SOUND;\n",
    "SELECT value AS log_line\n",
    "FROM TABLE(\n",
    " SPLIT_TO_TABLE(SYSTEM$GET_SERVICE_LOGS('WHISPER_APP', 0, 'whisper-service-container'), '\\n')\n",
    "  );"
   ]
  },
  {
   "cell_type": "markdown",
   "id": "aecbdac5-49d8-43f2-8e19-be5323d1ce3d",
   "metadata": {
    "collapsed": false,
    "name": "heading_create_functions",
    "resultHeight": 47
   },
   "source": [
    "#### Create 2 Functions"
   ]
  },
  {
   "cell_type": "markdown",
   "id": "6dfbdaba-7740-473b-b949-f34a026e4a99",
   "metadata": {
    "collapsed": false,
    "name": "heading_f1",
    "resultHeight": 31
   },
   "source": [
    "##### Function 1 - Detect Language"
   ]
  },
  {
   "cell_type": "code",
   "execution_count": null,
   "id": "76c1bcbb-6c8e-4934-8fa6-1486be015b14",
   "metadata": {
    "collapsed": false,
    "language": "sql",
    "name": "function_to_detect_language",
    "resultHeight": 0
   },
   "outputs": [],
   "source": [
    "CREATE OR REPLACE FUNCTION UTILS.DETECT_LANGUAGE(AUDIO_FILE TEXT, ENCODE BOOLEAN)\n",
    "RETURNS VARIANT\n",
    "SERVICE=SOUND.WHISPER_APP\n",
    "ENDPOINT=API\n",
    "AS '/detect-language';"
   ]
  },
  {
   "cell_type": "markdown",
   "id": "d64645c3-64e6-4620-9f3e-487cce6e841e",
   "metadata": {
    "collapsed": false,
    "name": "heading_f2",
    "resultHeight": 31
   },
   "source": [
    "##### Function 2 - Transcribe Text"
   ]
  },
  {
   "cell_type": "code",
   "execution_count": null,
   "id": "74fcb49e-df9c-41e9-9b75-fe4f57b4652a",
   "metadata": {
    "language": "sql",
    "name": "function_to_transcribe_sound",
    "resultHeight": 0
   },
   "outputs": [],
   "source": [
    "CREATE OR REPLACE FUNCTION UTILS.TRANSCRIBE(TASK TEXT, LANGUAGE TEXT, AUDIO_FILE TEXT, ENCODE BOOLEAN)\n",
    "RETURNS VARIANT\n",
    "SERVICE=SOUND.WHISPER_APP\n",
    "ENDPOINT=API\n",
    "AS '/asr';"
   ]
  },
  {
   "cell_type": "markdown",
   "id": "db43f053-4480-4ab8-b503-d8d15e23d9fa",
   "metadata": {
    "collapsed": false,
    "name": "run_functions",
    "resultHeight": 47
   },
   "source": [
    "#### Run The Functions"
   ]
  },
  {
   "cell_type": "code",
   "execution_count": null,
   "id": "36eeffd1-5a10-46fd-be4c-83d1b2078656",
   "metadata": {
    "codeCollapsed": true,
    "collapsed": false,
    "language": "python",
    "name": "view_each_call",
    "resultHeight": 161
   },
   "outputs": [],
   "source": [
    "# Import python packages\n",
    "import streamlit as st\n",
    "import pandas as pd\n",
    "\n",
    "from snowflake.snowpark.functions import *\n",
    "from snowflake.snowpark.types import *\n",
    "\n",
    "# We can also use Snowpark for our analyses!\n",
    "from snowflake.snowpark.context import get_active_session\n",
    "session = get_active_session()\n",
    "\n",
    "\n",
    "files = session.sql('''SELECT RELATIVE_PATH, GET_PRESIGNED_URL('@DATA.SOUND',RELATIVE_PATH) URL FROM DIRECTORY (@SNOWFLAKE_BUY_OR_SELL.DATA.SOUND)''')\n",
    "\n",
    "\n",
    "select_call = st.selectbox('Select Call:', files.select('RELATIVE_PATH'))\n",
    "\n",
    "URL = files.filter(col('RELATIVE_PATH') == select_call).select('URL').collect()[0][0]\n",
    "st.audio(URL, format=\"audio/mpeg\")"
   ]
  },
  {
   "cell_type": "markdown",
   "id": "4c87cb74-d27b-4d05-aced-f31271194089",
   "metadata": {
    "collapsed": false,
    "name": "Detect_Language",
    "resultHeight": 46
   },
   "source": [
    "### Detect the Language"
   ]
  },
  {
   "cell_type": "code",
   "execution_count": null,
   "id": "210e678f-3814-4b20-9e75-b74c51a13e2f",
   "metadata": {
    "collapsed": false,
    "language": "sql",
    "name": "detect_language",
    "resultHeight": 182
   },
   "outputs": [],
   "source": [
    "SELECT RELATIVE_PATH, UTILS.DETECT_LANGUAGE(GET_PRESIGNED_URL('@DATA.SOUND',RELATIVE_PATH),True) FROM DIRECTORY (@SNOWFLAKE_BUY_OR_SELL.DATA.SOUND)"
   ]
  },
  {
   "cell_type": "markdown",
   "id": "160d5b19-ed63-4ead-9622-bc26a0967692",
   "metadata": {
    "collapsed": false,
    "name": "heading_table_transcript",
    "resultHeight": 47
   },
   "source": [
    "#### Create a table which will contain the transcript"
   ]
  },
  {
   "cell_type": "code",
   "execution_count": null,
   "id": "aa54974b-086e-4d3b-a58d-70fa30081dc6",
   "metadata": {
    "collapsed": false,
    "language": "sql",
    "name": "table_transcript",
    "resultHeight": 182
   },
   "outputs": [],
   "source": [
    "CREATE TABLE if NOT EXISTS DATA.EARNINGS_CALL_TRANSCRIPT AS \n",
    "\n",
    "SELECT RELATIVE_PATH, UTILS.TRANSCRIBE('transcribe','english',GET_PRESIGNED_URL('@DATA.SOUND',RELATIVE_PATH),True) TRANSCRIPT FROM DIRECTORY (@SNOWFLAKE_BUY_OR_SELL.DATA.SOUND);\n",
    "\n",
    "\n",
    "SELECT * FROM DATA.EARNINGS_CALL_TRANSCRIPT"
   ]
  },
  {
   "cell_type": "markdown",
   "id": "5c082740-2faf-4885-aab9-bb9ed19f3bcf",
   "metadata": {
    "collapsed": false,
    "name": "heading_view_transcript",
    "resultHeight": 46
   },
   "source": [
    "### Transform the transcript table"
   ]
  },
  {
   "cell_type": "code",
   "execution_count": null,
   "id": "7893c881-d45a-4388-9dda-bdfce79a65ed",
   "metadata": {
    "collapsed": false,
    "language": "sql",
    "name": "create_table_formatted_transcripts_with_sentiments",
    "resultHeight": 252
   },
   "outputs": [],
   "source": [
    "CREATE TABLE IF NOT EXISTS DATA.TRANSCRIBED_TRANSCRIPTS AS\n",
    "\n",
    "SELECT RELATIVE_PATH, PARSE_JSON(TRANSCRIPT):language::TEXT LANGUAGE,\n",
    "\n",
    "VALUE:end::FLOAT TIME_SECONDS,  \n",
    "VALUE:text::TEXT TEXT \n",
    "FROM DATA.EARNINGS_CALL_TRANSCRIPT,\n",
    "LATERAL FLATTEN (PARSE_JSON(TRANSCRIPT):segments);\n",
    "\n",
    "SELECT * FROM DATA.TRANSCRIBED_TRANSCRIPTS LIMIT 5"
   ]
  },
  {
   "cell_type": "markdown",
   "id": "098216c2-20b6-4935-b0d3-815986f9e664",
   "metadata": {
    "collapsed": false,
    "name": "heading_add_sentiment",
    "resultHeight": 47
   },
   "source": [
    "#### Add Sentiment scores to the calls"
   ]
  },
  {
   "cell_type": "code",
   "execution_count": null,
   "id": "65821c72-41ad-4d5a-ab8a-fb9f290f24ec",
   "metadata": {
    "collapsed": false,
    "language": "sql",
    "name": "with_sentiment",
    "resultHeight": 439
   },
   "outputs": [],
   "source": [
    "SELECT *, SNOWFLAKE.CORTEX.SENTIMENT(TEXT) FROM DATA.TRANSCRIBED_TRANSCRIPTS"
   ]
  },
  {
   "cell_type": "markdown",
   "id": "4337bffc-9f87-4c3d-8739-6676a4b12549",
   "metadata": {
    "collapsed": false,
    "name": "heading_Streamlit",
    "resultHeight": 47
   },
   "source": [
    "#### Put all together in Streamlit"
   ]
  },
  {
   "cell_type": "code",
   "execution_count": null,
   "id": "ce6068f0-ea09-47f0-b4c9-438ace28179c",
   "metadata": {
    "codeCollapsed": true,
    "collapsed": false,
    "language": "python",
    "name": "earnings_sentiment",
    "resultHeight": 977
   },
   "outputs": [],
   "source": [
    "# Import python packages\n",
    "import streamlit as st\n",
    "import pandas as pd\n",
    "\n",
    "from snowflake.snowpark.functions import *\n",
    "from snowflake.snowpark.types import *\n",
    "\n",
    "# We can also use Snowpark for our analyses!\n",
    "from snowflake.snowpark.context import get_active_session\n",
    "session = get_active_session()\n",
    "\n",
    "def sentiment(text):\n",
    "    return call_function('snowflake.cortex.sentiment',text)\n",
    "\n",
    "transcript_with_sentiment = session.table('DATA.TRANSCRIBED_TRANSCRIPTS').with_column('sentiment',sentiment(col('TEXT')))\n",
    "\n",
    "st.markdown('#### Calls with Sentiment')\n",
    "\n",
    "\n",
    "st.dataframe(transcript_with_sentiment)\n",
    "col1,col2,col3 = st.columns(3)\n",
    "\n",
    "with col1:\n",
    "\n",
    "    st.markdown('#### Q1')\n",
    "    q1 = transcript_with_sentiment.filter(col('RELATIVE_PATH')=='EARNINGS_Q1_FY2025.mp3')\n",
    "    st.line_chart(q1,\n",
    "              y='SENTIMENT',x='TIME_SECONDS',color = '#29B5E8')\n",
    "    st.metric('Average Sentiment',q1.agg(avg('SENTIMENT').alias('SENTIMENT')).select(round('SENTIMENT',2)).collect()[0][0])\n",
    "\n",
    "with col2:\n",
    "    q2 = transcript_with_sentiment.filter(col('RELATIVE_PATH')=='EARNINGS_Q2_FY2025.mp3')\n",
    "    st.markdown('#### Q2')\n",
    "    st.line_chart(q2,\n",
    "              y='SENTIMENT',x='TIME_SECONDS',color = '#29B5E8')\n",
    "    st.metric('Average Sentiment',q2.agg(avg('SENTIMENT').alias('SENTIMENT')).select(round('SENTIMENT',2)).collect()[0][0])\n",
    "\n",
    "with col3:\n",
    "    \n",
    "    st.markdown('#### Q3')\n",
    "    q3 = transcript_with_sentiment.filter(col('RELATIVE_PATH')=='EARNINGS_Q3_FY2025.mp3')\n",
    "    st.line_chart(q3,\n",
    "              y='SENTIMENT',x='TIME_SECONDS',color = '#FF9F36')\n",
    "    st.metric('Average Sentiment',q3.agg(avg('SENTIMENT').alias('SENTIMENT')).select(round('SENTIMENT',2)).collect()[0][0])"
   ]
  },
  {
   "cell_type": "code",
   "execution_count": null,
   "id": "d4d30301-7651-48e9-b3b6-9d1f9b480323",
   "metadata": {
    "collapsed": false,
    "language": "python",
    "name": "sentiment_minutes",
    "resultHeight": 464
   },
   "outputs": [],
   "source": [
    "grouped = transcript_with_sentiment.with_column('TIME',time_from_parts(15,0,'TIME_SECONDS')).\\\n",
    "with_column('MINUTES',date_trunc('minute','TIME'))\n",
    "grouped = grouped.with_column('MINUTES',minute('MINUTES'))\n",
    "data_grouped_minutes = grouped.group_by('RELATIVE_PATH','MINUTES').agg(array_agg('TEXT').alias('TEXT'),avg('SENTIMENT').alias('SENTIMENT'))\n",
    "\n",
    "st.markdown('''Data Grouped to Minutes''')\n",
    "data_grouped_minutes\n"
   ]
  },
  {
   "cell_type": "code",
   "execution_count": null,
   "id": "eeb79850-3258-44dc-8552-ae0c126dd812",
   "metadata": {
    "codeCollapsed": true,
    "collapsed": false,
    "language": "python",
    "name": "grouped_minutes",
    "resultHeight": 790
   },
   "outputs": [],
   "source": [
    "st.markdown('#### Sentiment Analysis during the duration of the last 3 quarterly earnings calls')\n",
    "col1,col2,col3 = st.columns(3)\n",
    "\n",
    "with col1:\n",
    "\n",
    "    st.markdown('#### Q1')\n",
    "    q1 = data_grouped_minutes.filter(col('RELATIVE_PATH')=='EARNINGS_Q1_FY2025.mp3')\n",
    "    st.line_chart(q1,\n",
    "              y='SENTIMENT',x='MINUTES',color = '#29B5E8')\n",
    "    st.metric('Average Sentiment',q1.agg(avg('SENTIMENT').alias('SENTIMENT')).select(round('SENTIMENT',2)).collect()[0][0])\n",
    "\n",
    "with col2:\n",
    "    q2 = data_grouped_minutes.filter(col('RELATIVE_PATH')=='EARNINGS_Q2_FY2025.mp3')\n",
    "    st.markdown('#### Q2')\n",
    "    st.line_chart(q2,\n",
    "              y='SENTIMENT',x='MINUTES',color = '#29B5E8')\n",
    "    st.metric('Average Sentiment',q2.agg(avg('SENTIMENT').alias('SENTIMENT')).select(round('SENTIMENT',2)).collect()[0][0])\n",
    "\n",
    "with col3:\n",
    "    \n",
    "    st.markdown('#### Q3')\n",
    "    q3 = data_grouped_minutes.filter(col('RELATIVE_PATH')=='EARNINGS_Q3_FY2025.mp3')\n",
    "    st.line_chart(q3,\n",
    "              y='SENTIMENT',x='MINUTES',color = '#FF9F36')\n",
    "    st.metric('Average Sentiment',q3.agg(avg('SENTIMENT').alias('SENTIMENT')).select(round('SENTIMENT',2)).collect()[0][0])\n",
    "\n",
    "st.markdown(f'''**:bulb: Most positive minute of the year**: \\\n",
    "{data_grouped_minutes.sort(col('SENTIMENT').desc()).limit(1).select(array_to_string(col('TEXT'),lit(''))).collect()[0][0]}''')\n",
    "\n",
    "st.markdown(f'''**:warning: Most negative minute of the year**: \\\n",
    "{data_grouped_minutes.sort(col('SENTIMENT').asc()).limit(1).select(array_to_string(col('TEXT'),lit(''))).collect()[0][0]}''')"
   ]
  },
  {
   "cell_type": "code",
   "execution_count": null,
   "id": "dc46c13e-7e46-46a9-b4ea-1a8f83294f61",
   "metadata": {
    "collapsed": false,
    "language": "python",
    "name": "format_text",
    "resultHeight": 439
   },
   "outputs": [],
   "source": [
    "grouped_text = data_grouped_minutes.with_column('TEXT',replace(replace(replace(cast('TEXT',StringType()),'\"',''),'[',''),']',''))\n",
    "grouped_text"
   ]
  },
  {
   "cell_type": "markdown",
   "id": "7f000610-a836-4b17-aa9e-c192b48379dc",
   "metadata": {
    "collapsed": false,
    "name": "heading_save_data_in_table",
    "resultHeight": 47
   },
   "source": [
    "#### Save data in a table"
   ]
  },
  {
   "cell_type": "code",
   "execution_count": null,
   "id": "20573f93-500d-48d8-b4bd-aa7bf3334dbf",
   "metadata": {
    "collapsed": false,
    "language": "python",
    "name": "create_table",
    "resultHeight": 0
   },
   "outputs": [],
   "source": [
    "grouped_text.write.mode(\"overwrite\").save_as_table(\"data.summary_text\")"
   ]
  },
  {
   "cell_type": "markdown",
   "id": "894bbe11",
   "metadata": {},
   "source": [
    "So you have now processed **sound transcripts** and have put the results in a table.  We are starting to get quite a lot of processed but still unstructured text fields.  Let's make sense of this information with a search service."
   ]
  }
 ],
 "metadata": {
  "kernelspec": {
   "display_name": "Streamlit Notebook",
   "name": "streamlit"
  },
  "lastEditStatus": {
   "authorEmail": "becky.oconnor@snowflake.com",
   "authorId": "3234949799362",
   "authorName": "BECKY2",
   "lastEditTime": 1739371586708,
   "notebookId": "oez2qsqmc5v5td4g4gdt",
   "sessionId": "a667843c-9bad-43b2-a349-73170d7a318e"
  }
 },
 "nbformat": 4,
 "nbformat_minor": 5
}
