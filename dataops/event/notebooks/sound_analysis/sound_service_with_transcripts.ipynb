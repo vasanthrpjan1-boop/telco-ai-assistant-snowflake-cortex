{
 "metadata": {
  "kernelspec": {
   "display_name": "Streamlit Notebook",
   "name": "streamlit"
  },
  "lastEditStatus": {
   "notebookId": "2qyiy44wwglw6y4om24o",
   "authorId": "2656583713627",
   "authorName": "USER",
   "authorEmail": "becky.oconnor@snowflake.com",
   "sessionId": "861a6a58-61ea-4be5-94c8-1b3362fbdc8a",
   "lastEditTime": 1741271484083
  }
 },
 "nbformat_minor": 5,
 "nbformat": 4,
 "cells": [
  {
   "cell_type": "markdown",
   "id": "463050b4-bef4-4c6b-bedf-d1851064869b",
   "metadata": {
    "collapsed": false,
    "name": "heading_create_service",
    "resultHeight": 183
   },
   "source": [
    "### Create a Service to transcript the earnings call\n",
    "The whisper service has already transcribed sound files relating to the earnings calls.  It was hosted on a snowpark container and processed each file with a medium sized GPU.  Whisper leverages pytorch (a deap leaning framework) to parse and transcribe the text.  If you want to set this up yourself, follow the instructions here to set up the container in Snowflake.\n",
    "\n",
    "- git hub https://github.com/michaelgorkow/scs_whisper, \n",
    "- blog post https://github.com/michaelgorkow/scs_whisper"
   ]
  },
  {
   "cell_type": "markdown",
   "id": "db43f053-4480-4ab8-b503-d8d15e23d9fa",
   "metadata": {
    "collapsed": false,
    "name": "run_functions",
    "resultHeight": 47
   },
   "source": [
    "####  Listen to the calls that were transcribed"
   ]
  },
  {
   "cell_type": "code",
   "execution_count": null,
   "id": "36eeffd1-5a10-46fd-be4c-83d1b2078656",
   "metadata": {
    "codeCollapsed": true,
    "collapsed": false,
    "language": "python",
    "name": "view_each_call",
    "resultHeight": 161
   },
   "outputs": [],
   "source": [
    "# Import python packages\n",
    "import streamlit as st\n",
    "import pandas as pd\n",
    "\n",
    "from snowflake.snowpark.functions import *\n",
    "from snowflake.snowpark.types import *\n",
    "\n",
    "# We can also use Snowpark for our analyses!\n",
    "from snowflake.snowpark.context import get_active_session\n",
    "session = get_active_session()\n",
    "\n",
    "\n",
    "files = session.sql('''SELECT RELATIVE_PATH, GET_PRESIGNED_URL('@DOCUMENT_AI.EARNINGS_CALLS',RELATIVE_PATH) URL FROM DIRECTORY (@DOCUMENT_AI.EARNINGS_CALLS)''')\n",
    "\n",
    "\n",
    "select_call = st.selectbox('Select Call:', files.select('RELATIVE_PATH'))\n",
    "\n",
    "URL = files.filter(col('RELATIVE_PATH') == select_call).select('URL').collect()[0][0]\n",
    "st.audio(URL, format=\"audio/mpeg\")"
   ]
  },
  {
   "cell_type": "markdown",
   "id": "160d5b19-ed63-4ead-9622-bc26a0967692",
   "metadata": {
    "collapsed": false,
    "name": "heading_table_transcript",
    "resultHeight": 47
   },
   "source": [
    "#### The sound files have already been transcribed using the whisper service.\n",
    "We will now create a table based on the raw results produced by the Whisper Service which was hosted in Snowflake."
   ]
  },
  {
   "cell_type": "code",
   "execution_count": null,
   "id": "aa54974b-086e-4d3b-a58d-70fa30081dc6",
   "metadata": {
    "collapsed": false,
    "language": "sql",
    "name": "table_transcript",
    "resultHeight": 182
   },
   "outputs": [],
   "source": "CREATE TABLE if NOT EXISTS DEFAULT_SCHEMA.EARNINGS_CALL_TRANSCRIPT AS \n\nSELECT * FROM ORGDATACLOUD$INTERNAL$TRANSCRIPTS_FROM_EARNINGS_CALLS.TRANSCRIPTS.EARNINGS_TRANSCRIPTS;\n\nSELECT * FROM DEFAULT_SCHEMA.EARNINGS_CALL_TRANSCRIPT"
  },
  {
   "cell_type": "markdown",
   "id": "5c082740-2faf-4885-aab9-bb9ed19f3bcf",
   "metadata": {
    "collapsed": false,
    "name": "heading_view_transcript",
    "resultHeight": 46
   },
   "source": [
    "### Transform the transcript table"
   ]
  },
  {
   "cell_type": "code",
   "execution_count": null,
   "id": "7893c881-d45a-4388-9dda-bdfce79a65ed",
   "metadata": {
    "collapsed": false,
    "language": "sql",
    "name": "create_table_formatted_transcripts_with_sentiments",
    "resultHeight": 252
   },
   "outputs": [],
   "source": "CREATE TABLE IF NOT EXISTS DEFAULT_SCHEMA.TRANSCRIBED_TRANSCRIPTS AS\n\nSELECT RELATIVE_PATH, PARSE_JSON(TRANSCRIPT):language::TEXT LANGUAGE,\n\nVALUE:end::FLOAT TIME_SECONDS,  \nVALUE:text::TEXT TEXT \nFROM DEFAULT_SCHEMA.EARNINGS_CALL_TRANSCRIPT,\nLATERAL FLATTEN (PARSE_JSON(TRANSCRIPT):segments);\n\nSELECT * FROM DEFAULT_SCHEMA.TRANSCRIBED_TRANSCRIPTS LIMIT 5"
  },
  {
   "cell_type": "markdown",
   "id": "098216c2-20b6-4935-b0d3-815986f9e664",
   "metadata": {
    "collapsed": false,
    "name": "heading_add_sentiment",
    "resultHeight": 47
   },
   "source": [
    "#### Add Sentiment scores to the calls"
   ]
  },
  {
   "cell_type": "code",
   "execution_count": null,
   "id": "65821c72-41ad-4d5a-ab8a-fb9f290f24ec",
   "metadata": {
    "collapsed": false,
    "language": "sql",
    "name": "with_sentiment",
    "resultHeight": 439
   },
   "outputs": [],
   "source": "SELECT *, SNOWFLAKE.CORTEX.SENTIMENT(TEXT) FROM DEFAULT_SCHEMA.TRANSCRIBED_TRANSCRIPTS"
  },
  {
   "cell_type": "markdown",
   "id": "4337bffc-9f87-4c3d-8739-6676a4b12549",
   "metadata": {
    "collapsed": false,
    "name": "heading_Streamlit",
    "resultHeight": 47
   },
   "source": [
    "#### Put all together in Streamlit"
   ]
  },
  {
   "cell_type": "code",
   "execution_count": null,
   "id": "ce6068f0-ea09-47f0-b4c9-438ace28179c",
   "metadata": {
    "codeCollapsed": true,
    "collapsed": false,
    "language": "python",
    "name": "earnings_sentiment",
    "resultHeight": 977
   },
   "outputs": [],
   "source": "# Import python packages\nimport streamlit as st\nimport pandas as pd\n\nfrom snowflake.snowpark.functions import *\nfrom snowflake.snowpark.types import *\n\n# We can also use Snowpark for our analyses!\nfrom snowflake.snowpark.context import get_active_session\nsession = get_active_session()\n\ndef sentiment(text):\n    return call_function('snowflake.cortex.sentiment',text)\n\ntranscript_with_sentiment = session.table('DEFAULT_SCHEMA.TRANSCRIBED_TRANSCRIPTS').with_column('sentiment',sentiment(col('TEXT')))\n\nst.markdown('#### Calls with Sentiment')\n\n\nst.dataframe(transcript_with_sentiment)\ncol1,col2,col3 = st.columns(3)\n\nwith col1:\n\n    st.markdown('#### Q1')\n    q1 = transcript_with_sentiment.filter(col('RELATIVE_PATH')=='EARNINGS_Q1_FY2025.mp3')\n    st.line_chart(q1,\n              y='SENTIMENT',x='TIME_SECONDS',color = '#29B5E8')\n    st.metric('Average Sentiment',q1.agg(avg('SENTIMENT').alias('SENTIMENT')).select(round('SENTIMENT',2)).collect()[0][0])\n\nwith col2:\n    q2 = transcript_with_sentiment.filter(col('RELATIVE_PATH')=='EARNINGS_Q2_FY2025.mp3')\n    st.markdown('#### Q2')\n    st.line_chart(q2,\n              y='SENTIMENT',x='TIME_SECONDS',color = '#29B5E8')\n    st.metric('Average Sentiment',q2.agg(avg('SENTIMENT').alias('SENTIMENT')).select(round('SENTIMENT',2)).collect()[0][0])\n\nwith col3:\n    \n    st.markdown('#### Q3')\n    q3 = transcript_with_sentiment.filter(col('RELATIVE_PATH')=='EARNINGS_Q3_FY2025.mp3')\n    st.line_chart(q3,\n              y='SENTIMENT',x='TIME_SECONDS',color = '#FF9F36')\n    st.metric('Average Sentiment',q3.agg(avg('SENTIMENT').alias('SENTIMENT')).select(round('SENTIMENT',2)).collect()[0][0])"
  },
  {
   "cell_type": "code",
   "execution_count": null,
   "id": "d4d30301-7651-48e9-b3b6-9d1f9b480323",
   "metadata": {
    "collapsed": false,
    "language": "python",
    "name": "sentiment_minutes",
    "resultHeight": 464
   },
   "outputs": [],
   "source": [
    "grouped = transcript_with_sentiment.with_column('TIME',time_from_parts(15,0,'TIME_SECONDS')).\\\n",
    "with_column('MINUTES',date_trunc('minute','TIME'))\n",
    "grouped = grouped.with_column('MINUTES',minute('MINUTES'))\n",
    "data_grouped_minutes = grouped.group_by('RELATIVE_PATH','MINUTES').agg(array_agg('TEXT').alias('TEXT'),avg('SENTIMENT').alias('SENTIMENT'))\n",
    "\n",
    "st.markdown('''Data Grouped to Minutes''')\n",
    "data_grouped_minutes\n"
   ]
  },
  {
   "cell_type": "code",
   "execution_count": null,
   "id": "eeb79850-3258-44dc-8552-ae0c126dd812",
   "metadata": {
    "codeCollapsed": true,
    "collapsed": false,
    "language": "python",
    "name": "grouped_minutes",
    "resultHeight": 790
   },
   "outputs": [],
   "source": [
    "st.markdown('#### Sentiment Analysis during the duration of the last 3 quarterly earnings calls')\n",
    "col1,col2,col3 = st.columns(3)\n",
    "\n",
    "with col1:\n",
    "\n",
    "    st.markdown('#### Q1')\n",
    "    q1 = data_grouped_minutes.filter(col('RELATIVE_PATH')=='EARNINGS_Q1_FY2025.mp3')\n",
    "    st.line_chart(q1,\n",
    "              y='SENTIMENT',x='MINUTES',color = '#29B5E8')\n",
    "    st.metric('Average Sentiment',q1.agg(avg('SENTIMENT').alias('SENTIMENT')).select(round('SENTIMENT',2)).collect()[0][0])\n",
    "\n",
    "with col2:\n",
    "    q2 = data_grouped_minutes.filter(col('RELATIVE_PATH')=='EARNINGS_Q2_FY2025.mp3')\n",
    "    st.markdown('#### Q2')\n",
    "    st.line_chart(q2,\n",
    "              y='SENTIMENT',x='MINUTES',color = '#29B5E8')\n",
    "    st.metric('Average Sentiment',q2.agg(avg('SENTIMENT').alias('SENTIMENT')).select(round('SENTIMENT',2)).collect()[0][0])\n",
    "\n",
    "with col3:\n",
    "    \n",
    "    st.markdown('#### Q3')\n",
    "    q3 = data_grouped_minutes.filter(col('RELATIVE_PATH')=='EARNINGS_Q3_FY2025.mp3')\n",
    "    st.line_chart(q3,\n",
    "              y='SENTIMENT',x='MINUTES',color = '#FF9F36')\n",
    "    st.metric('Average Sentiment',q3.agg(avg('SENTIMENT').alias('SENTIMENT')).select(round('SENTIMENT',2)).collect()[0][0])\n",
    "\n",
    "st.markdown(f'''**:bulb: Most positive minute of the year**: \\\n",
    "{data_grouped_minutes.sort(col('SENTIMENT').desc()).limit(1).select(array_to_string(col('TEXT'),lit(''))).collect()[0][0]}''')\n",
    "\n",
    "st.markdown(f'''**:warning: Most negative minute of the year**: \\\n",
    "{data_grouped_minutes.sort(col('SENTIMENT').asc()).limit(1).select(array_to_string(col('TEXT'),lit(''))).collect()[0][0]}''')"
   ]
  },
  {
   "cell_type": "code",
   "execution_count": null,
   "id": "dc46c13e-7e46-46a9-b4ea-1a8f83294f61",
   "metadata": {
    "collapsed": false,
    "language": "python",
    "name": "format_text",
    "resultHeight": 439
   },
   "outputs": [],
   "source": [
    "grouped_text = data_grouped_minutes.with_column('TEXT',replace(replace(replace(cast('TEXT',StringType()),'\"',''),'[',''),']',''))\n",
    "grouped_text"
   ]
  },
  {
   "cell_type": "markdown",
   "id": "7f000610-a836-4b17-aa9e-c192b48379dc",
   "metadata": {
    "collapsed": false,
    "name": "heading_save_data_in_table",
    "resultHeight": 47
   },
   "source": [
    "#### Save data in a table"
   ]
  },
  {
   "cell_type": "code",
   "execution_count": null,
   "id": "20573f93-500d-48d8-b4bd-aa7bf3334dbf",
   "metadata": {
    "collapsed": false,
    "language": "python",
    "name": "create_table",
    "resultHeight": 0
   },
   "outputs": [],
   "source": "grouped_text.write.mode(\"overwrite\").save_as_table(\"DEFAULT_SCHEMA.summary_text\")"
  }
 ]
}