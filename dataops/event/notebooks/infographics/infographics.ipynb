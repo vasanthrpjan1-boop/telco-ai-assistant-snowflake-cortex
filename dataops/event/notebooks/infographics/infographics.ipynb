{
 "metadata": {
  "kernelspec": {
   "display_name": "Streamlit Notebook",
   "name": "streamlit"
  },
  "lastEditStatus": {
   "notebookId": "e46gn3b7fbg4ibeyyyhf",
   "authorId": "2656583713627",
   "authorName": "USER",
   "authorEmail": "becky.oconnor@snowflake.com",
   "sessionId": "95938984-92a9-4697-b384-70f6bee657f7",
   "lastEditTime": 1741299737149
  }
 },
 "nbformat_minor": 5,
 "nbformat": 4,
 "cells": [
  {
   "cell_type": "markdown",
   "id": "0c9ba374-cd85-415e-b3e5-a9e862c9d395",
   "metadata": {
    "name": "title",
    "collapsed": false,
    "resultHeight": 74
   },
   "source": "# Section 7 create a Cortex agent\n\n### 7a - Snowflake Quarterly Earnings Infographic\nSo now let's look at the second document AI project you created.  This project, was extracting the metrics from the quartely earnings infographic.  The out put of this produced structured information.  We would like to include this along with the other structured information into the analysis - and at the same time, review the unstructured data.\n\n**Cortex Agents** allow you to gain insight to structured and unstructured information all in one place.  So to start with, lets process these infographics and ensure this information is used when a user utilises a Cortex agent."
  },
  {
   "cell_type": "code",
   "id": "3775908f-ca36-4846-8f38-5adca39217f2",
   "metadata": {
    "language": "python",
    "name": "load_libraries",
    "collapsed": false,
    "resultHeight": 0
   },
   "source": "# Import python packages\nimport streamlit as st\nimport pandas as pd\n\nfrom snowflake.snowpark.functions import *\nfrom snowflake.snowpark.types import *\n\n# We can also use Snowpark for our analyses!\nfrom snowflake.snowpark.context import get_active_session\nsession = get_active_session()\n",
   "execution_count": null,
   "outputs": []
  },
  {
   "cell_type": "markdown",
   "id": "959f7903-20b3-4b91-bcde-78fb32db5df4",
   "metadata": {
    "name": "heading_infographic",
    "collapsed": false,
    "resultHeight": 47
   },
   "source": "#### Here we have key metrics in images - you will utilise Document AI to extract the key metrics out.  The result should be a table of metrics over time"
  },
  {
   "cell_type": "code",
   "id": "86cd21ff-a199-4e56-8b00-fd1474ac35e7",
   "metadata": {
    "language": "python",
    "name": "view_infographic_images",
    "collapsed": false,
    "resultHeight": 423
   },
   "outputs": [],
   "source": "infographics = session.sql('''SELECT *, GET_PRESIGNED_URL('@DOCUMENT_AI.INFOGRAPHICS',RELATIVE_PATH) IMAGE FROM DIRECTORY(@DOCUMENT_AI.INFOGRAPHICS)''')\n\ninfographics = infographics.select('IMAGE','RELATIVE_PATH').order_by('RELATIVE_PATH')\n\nst.dataframe(\n    infographics,\n    column_config={\n        \"IMAGE\": st.column_config.ImageColumn(\n            \"Preview Image\", help=\"Snowflake infographic\"\n        )\n    },\n    hide_index=True,\n)",
   "execution_count": null
  },
  {
   "cell_type": "code",
   "id": "fa524b8e-6769-41e7-a897-a0e9a3746ba8",
   "metadata": {
    "language": "sql",
    "name": "EXTRACT_DATA",
    "collapsed": false,
    "resultHeight": 439
   },
   "outputs": [],
   "source": "CREATE TABLE if not exists DOCUMENT_AI.INFOGRAPHICS AS\n\nSELECT RELATIVE_PATH,'@DOCUMENT_AI.INFOGRAPHICS' AS STAGE, \n\nDOCUMENT_AI.INFOGRAPHICS_1!PREDICT(GET_PRESIGNED_URL('@DOCUMENT_AI.INFOGRAPHICS',RELATIVE_PATH),1) METADATA\n\nFROM DIRECTORY (@DOCUMENT_AI.INFOGRAPHICS);\n\nSELECT GET_PRESIGNED_URL('@DOCUMENT_AI.INFOGRAPHICS',RELATIVE_PATH)IMAGE,RELATIVE_PATH,METADATA FROM DOCUMENT_AI.INFOGRAPHICS;",
   "execution_count": null
  },
  {
   "cell_type": "code",
   "id": "e5e038c2-a208-4c2b-a376-519f5244bb5d",
   "metadata": {
    "language": "python",
    "name": "format_text",
    "resultHeight": 423,
    "collapsed": false,
    "codeCollapsed": false
   },
   "outputs": [],
   "source": "earnings_data = session.sql('''SELECT GET_PRESIGNED_URL('@DOCUMENT_AI.INFOGRAPHICS',RELATIVE_PATH)IMAGE,RELATIVE_PATH,METADATA FROM DOCUMENT_AI.INFOGRAPHICS''')\n\nearnings_formatted = earnings_data.with_column('1M_CUSTOMERS',col('METADATA')['1M_CUSTOMERS'][0]['value'].astype(StringType()))\nearnings_formatted = earnings_formatted.with_column('GLOBAL_2000_CUSTOMERS',col('METADATA')['GLOBAL_2000_CUSTOMERS'][0]['value'].astype(StringType()))\nearnings_formatted = earnings_formatted.with_column('NET_PROMOTOR',col('METADATA')['NET_PROMOTOR'][0]['value'].astype(StringType()))\nearnings_formatted = earnings_formatted.with_column('DRESNER_CUSTOMER_SATISFACTION',col('METADATA')['dresner_customer_satisfaction'][0]['value'].astype(StringType()))\nearnings_formatted = earnings_formatted.with_column('NET_REVENUE_RETENTION',col('METADATA')['NET_REVENUE_RETENTION'][0]['value'].astype(StringType()))\nearnings_formatted = earnings_formatted.with_column('PRODUCT REVENUE',col('METADATA')['PROD_REVENUE'][0]['value'].astype(StringType()))\nearnings_formatted = earnings_formatted.with_column('TOTAL_CUSTOMERS',col('METADATA')['TOTAL_CUSTOMERS'][0]['value'].astype(StringType()))\nearnings_formatted = earnings_formatted.with_column('TOTAL_CUSTOMERS',col('METADATA')['TOTAL_CUSTOMERS'][0]['value'].astype(StringType()))\nearnings_formatted = earnings_formatted.with_column('DATE_OF_REPORT',col('METADATA')['date_of_report'][0]['value'].astype(StringType()))\nearnings_formatted = earnings_formatted.with_column('MARKETPLACE_LISTINGS',col('METADATA')['marketplace_listings'][0]['value'].astype(StringType()))\nearnings_formatted = earnings_formatted.with_column('QUARTER',col('METADATA')['quarter'][0]['value'].astype(StringType()))\nearnings_formatted = earnings_formatted.with_column('YEAR',col('METADATA')['year'][0]['value'].astype(StringType())).drop('METADATA')\n\n\nst.dataframe(\n    earnings_formatted,\n    column_config={\n        \"IMAGE\": st.column_config.ImageColumn(\n            \"Preview Image\", help=\"Snowflake infographic\"\n        )\n    },\n    hide_index=True,\n)",
   "execution_count": null
  },
  {
   "cell_type": "markdown",
   "id": "1f11f151-2ce1-4f73-b268-90402092ad06",
   "metadata": {
    "name": "heading_date_formatter",
    "collapsed": false,
    "resultHeight": 47
   },
   "source": "#### Use Cortex Complete for a simple date formatter\nSo we can now see the results in a table.  You may want to re train with new infogtraphics for better accuracy.  You will notice that the dates are of differing formats.  Next we will use cortex complete to return the date to a consistant format"
  },
  {
   "cell_type": "code",
   "id": "09036d2b-6535-4909-b673-311922bb26e5",
   "metadata": {
    "language": "python",
    "name": "create_llm_date_parser",
    "collapsed": false,
    "resultHeight": 112
   },
   "outputs": [],
   "source": "def cortex_date(date_string):\n    return call_function('SNOWFLAKE.CORTEX.COMPLETE','reka-flash',\n                         concat(lit('return the following which can be parsed as a date in this format YYYY-MM-DD.  ONLY RETURN THE RESULT'),\n                                lit(date_string)))\n\nsession.create_dataframe([{'DATE':'test'}]).with_column('DATE',cortex_date('April 30, 2022'))",
   "execution_count": null
  },
  {
   "cell_type": "markdown",
   "id": "b9151be8-8bda-4cae-83f7-2af19c04da48",
   "metadata": {
    "name": "numeric_characters",
    "collapsed": false
   },
   "source": "### Keep only Numeric Characters\nSome of the fields which would work best as numeric fields have other characters.  Using the **regex_replace** function handles this to keep all numeric fields consistant."
  },
  {
   "cell_type": "code",
   "id": "fe3befcc-b1f7-4342-be43-0087b807dc7b",
   "metadata": {
    "language": "sql",
    "name": "keep_only_numeric",
    "collapsed": false
   },
   "outputs": [],
   "source": "CREATE OR REPLACE FUNCTION NUMBERS(input_string STRING)\nRETURNS STRING\nLANGUAGE SQL\nAS\n$$\n    REGEXP_REPLACE(input_string, '[^0-9]', '')\n$$;",
   "execution_count": null
  },
  {
   "cell_type": "markdown",
   "id": "2381c998-c7ec-4382-83f8-c66ac6d3430e",
   "metadata": {
    "name": "apply_numbers_function",
    "collapsed": false
   },
   "source": "Let's apply this to our structured data results"
  },
  {
   "cell_type": "code",
   "id": "f3d68ce4-6224-429f-977f-a30c849b06d6",
   "metadata": {
    "language": "python",
    "name": "cell1",
    "collapsed": false
   },
   "outputs": [],
   "source": "earnings_formatted_s = session.table('DOCUMENT_AI.INFOGRAPHICS')\nearnings_formatted_2 = earnings_formatted_s.with_column('IMAGE',call_function('GET_PRESIGNED_URL',\n                                                                              lit('@DOCUMENT_AI.INFOGRAPHICS'),\n                                                                              col('RELATIVE_PATH'))).cache_result()\nearnings_formatted_2 = earnings_formatted_2.with_column('1M_CUSTOMERS',\n            call_function('DOCUMENT_AI.NUMBERS',col('METADATA')['1M_CUSTOMERS'][0]['value']).astype(IntegerType()))\\\n.with_column('GLOBAL_2000_CUSTOMERS',call_function('DOCUMENT_AI.NUMBERS',col('METADATA')['GLOBAL_2000_CUSTOMERS'][0]['value']).astype(IntegerType()))\\\n.with_column('NET_PROMOTOR',call_function('DOCUMENT_AI.NUMBERS',col('METADATA')['NET_PROMOTOR'][0]['value']).astype(IntegerType()))\\\n.with_column('DRESNER_CUSTOMER_SATISFACTION',call_function('DOCUMENT_AI.NUMBERS',col('METADATA')['dresner_customer_satisfaction'][0]['value']).astype(IntegerType()))\\\n.with_column('NET_REVENUE_RETENTION',call_function('DOCUMENT_AI.NUMBERS',col('METADATA')['NET_REVENUE_RETENTION'][0]['value']).astype(IntegerType()))\\\n.with_column('PRODUCT REVENUE',col('METADATA')['PROD_REVENUE'][0]['value'].astype(StringType()))\\\n.with_column('TOTAL_CUSTOMERS',col('METADATA')['TOTAL_CUSTOMERS'][0]['value'].astype(StringType()))\\\n.with_column('DATE_OF_REPORT',cortex_date(col('METADATA')['date_of_report'][0]['value']).astype(DateType()))\\\n.with_column('MARKETPLACE_LISTINGS',call_function('DOCUMENT_AI.NUMBERS',col('METADATA')['marketplace_listings'][0]['value']).astype(IntegerType()))\\\n.with_column('QUARTER',col('METADATA')['quarter'][0]['value'].astype(StringType()))\\\n.with_column('YEAR',col('METADATA')['year'][0]['value'].astype(StringType()))\\\n.with_column('PRODUCT REVENUE',call_function('DOCUMENT_AI.NUMBERS',col('PRODUCT REVENUE')).astype(DecimalType(6,1)))\\\n.with_column('TOTAL_CUSTOMERS',call_function('DOCUMENT_AI.NUMBERS',col('TOTAL_CUSTOMERS')).astype(IntegerType()))\\\n.with_column('MARKETPLACE_LISTINGS',call_function('DOCUMENT_AI.NUMBERS',col('MARKETPLACE_LISTINGS')).astype(IntegerType()))\\\n.with_column('NET_REVENUE_RETENTION',call_function('DOCUMENT_AI.NUMBERS',col('NET_REVENUE_RETENTION')).astype(IntegerType()))\\\n.with_column('NET_PROMOTOR',call_function('DOCUMENT_AI.NUMBERS',col('NET_PROMOTOR')).astype(IntegerType()))\\\n.with_column('GLOBAL_2000_CUSTOMERS',call_function('DOCUMENT_AI.NUMBERS',col('GLOBAL_2000_CUSTOMERS')).astype(IntegerType()))\\\n.with_column('1M_CUSTOMERS',call_function('DOCUMENT_AI.NUMBERS',col('1M_CUSTOMERS')).astype(IntegerType()))\\\n.drop('RELATIVE_PATH','STAGE','METADATA')\n\nearnings_formatted_2.write.mode('overwrite').save_as_table(\"DOCUMENT_AI.EARNINGS_INFOGRAPHIC_PARSED\")\n\nearnings_formatted_2 = session.table('DOCUMENT_AI.EARNINGS_INFOGRAPHIC_PARSED')",
   "execution_count": null
  },
  {
   "cell_type": "markdown",
   "id": "9f15a36a-476b-4070-adc0-2adb0d6a7627",
   "metadata": {
    "name": "View_reporting_info",
    "collapsed": false
   },
   "source": "Finally we will view the Snowflake reporting information in a Streamlit app."
  },
  {
   "cell_type": "code",
   "id": "59f1bb3f-d9ff-424d-b681-23a00c63bb64",
   "metadata": {
    "language": "python",
    "name": "refined_view",
    "collapsed": false,
    "resultHeight": 2003,
    "codeCollapsed": false
   },
   "outputs": [],
   "source": "st.markdown('### Recent Earnings infographics for SNOW')\n\nst.markdown('#### KEY METRICS')\ncol1,col2,col3 = st.columns(3)\nwith col1:\n    st.markdown('#### PRODUCT REVENUE')\n    st.line_chart(earnings_formatted_2.to_pandas(),x='QUARTER',y='PRODUCT REVENUE', color='YEAR')\nwith col2:\n    st.markdown('#### TOTAL CUSTOMERS')\n    st.line_chart(earnings_formatted_2.to_pandas(),x='QUARTER',y='TOTAL_CUSTOMERS', color='YEAR')\nwith col3:\n    st.markdown('#### MARKETPLACE LISTINGS')\n    st.line_chart(earnings_formatted_2.to_pandas(),x='QUARTER',y='MARKETPLACE_LISTINGS',color='YEAR')\nst.divider()\nst.markdown('#### ALL EXTRACTED DATA')\nst.dataframe(\n    earnings_formatted_2,\n    column_config={\n        \"IMAGE\": st.column_config.ImageColumn(\n            \"Preview Image\", help=\"Snowflake infographic\"\n        )\n    },\n    hide_index=True,\n)\n\n\nst.divider()\nst.markdown('#### ORIGINAL INFOGRAPHIC')\ncol1, col2 = st.columns(2)\n\n\nwith col1:\n    selected_year = st.selectbox('Choose Year:',earnings_formatted_2.select('YEAR').distinct().sort(col('YEAR').desc()))\nwith col2:\n    selected_quarter = st.selectbox('Choose Quarter:',earnings_formatted_2.filter(col('YEAR')==selected_year).select('QUARTER').distinct().sort('QUARTER'))\n\n\n\n\n\nst.image(earnings_formatted_2.filter((col('QUARTER')==selected_quarter)\n                                  &(col('YEAR')==selected_year)).select('IMAGE').limit(1).collect()[0][0])\n",
   "execution_count": null
  }
 ]
}