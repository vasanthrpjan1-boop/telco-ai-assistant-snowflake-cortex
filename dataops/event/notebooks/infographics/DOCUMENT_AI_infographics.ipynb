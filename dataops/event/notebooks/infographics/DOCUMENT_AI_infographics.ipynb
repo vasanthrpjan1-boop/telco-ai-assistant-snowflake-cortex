{
 "cells": [
  {
   "cell_type": "markdown",
   "id": "0c9ba374-cd85-415e-b3e5-a9e862c9d395",
   "metadata": {
    "collapsed": false,
    "name": "title",
    "resultHeight": 74
   },
   "source": [
    "# Section 4 Document AI\n",
    "\n",
    "### 4b - Snowflake Quarterly Earnings Infographic\n",
    "So now let's look at the second document AI project you created.  This project, was extracting the metrics from the quartely earnings infographic.  The out put of this produced structured information.  We would like to include this along with the other structured information into the analysis - and at the same time, review the unstructured data.\n",
    "\n",
    "**Cortex Agents** allow you to gain insight to structured and unstructured information all in one place.  So to start with, lets process these infographics and ensure this information is used when a user utilises a Cortex agent."
   ]
  },
  {
   "cell_type": "code",
   "execution_count": null,
   "id": "3775908f-ca36-4846-8f38-5adca39217f2",
   "metadata": {
    "collapsed": false,
    "language": "python",
    "name": "load_libraries",
    "resultHeight": 0
   },
   "outputs": [],
   "source": [
    "# Import python packages\n",
    "import streamlit as st\n",
    "import pandas as pd\n",
    "\n",
    "from snowflake.snowpark.functions import *\n",
    "from snowflake.snowpark.types import *\n",
    "\n",
    "# We can also use Snowpark for our analyses!\n",
    "from snowflake.snowpark.context import get_active_session\n",
    "session = get_active_session()\n"
   ]
  },
  {
   "cell_type": "markdown",
   "id": "959f7903-20b3-4b91-bcde-78fb32db5df4",
   "metadata": {
    "collapsed": false,
    "name": "heading_infographic",
    "resultHeight": 47
   },
   "source": [
    "#### Here we have key metrics in images - you will utilise Document AI to extract the key metrics out.  The result should be a table of metrics over time"
   ]
  },
  {
   "cell_type": "code",
   "execution_count": null,
   "id": "86cd21ff-a199-4e56-8b00-fd1474ac35e7",
   "metadata": {
    "collapsed": false,
    "language": "python",
    "name": "view_infographic_images",
    "resultHeight": 423
   },
   "outputs": [],
   "source": [
    "infographics = session.sql('''SELECT *, GET_PRESIGNED_URL('@DOCUMENT_AI.INFOGRAPHICS',RELATIVE_PATH) IMAGE FROM DIRECTORY(@DOCUMENT_AI.INFOGRAPHICS)''')\n",
    "\n",
    "infographics = infographics.select('IMAGE','RELATIVE_PATH').order_by('RELATIVE_PATH')\n",
    "\n",
    "st.dataframe(\n",
    "    infographics,\n",
    "    column_config={\n",
    "        \"IMAGE\": st.column_config.ImageColumn(\n",
    "            \"Preview Image\", help=\"Snowflake infographic\"\n",
    "        )\n",
    "    },\n",
    "    hide_index=True,\n",
    ")"
   ]
  },
  {
   "cell_type": "code",
   "execution_count": null,
   "id": "fa524b8e-6769-41e7-a897-a0e9a3746ba8",
   "metadata": {
    "collapsed": false,
    "language": "sql",
    "name": "EXTRACT_DATA",
    "resultHeight": 439
   },
   "outputs": [],
   "source": [
    "CREATE TABLE if not exists DOCUMENT_AI.INFOGRAPHICS AS\n",
    "\n",
    "SELECT RELATIVE_PATH,'@DOCUMENT_AI.INFOGRAPHICS' AS STAGE, \n",
    "\n",
    "DOCUMENT_AI.INFOGRAPHICS!PREDICT(GET_PRESIGNED_URL('@DOCUMENT_AI.INFOGRAPHICS',RELATIVE_PATH),1) METADATA\n",
    "\n",
    "FROM DIRECTORY (@DOCUMENT_AI.INFOGRAPHICS);\n",
    "\n",
    "SELECT GET_PRESIGNED_URL('@DOCUMENT_AI.INFOGRAPHICS',RELATIVE_PATH)IMAGE,RELATIVE_PATH,METADATA FROM DOCUMENT_AI.INFOGRAPHICS;"
   ]
  },
  {
   "cell_type": "code",
   "execution_count": null,
   "id": "e5e038c2-a208-4c2b-a376-519f5244bb5d",
   "metadata": {
    "codeCollapsed": false,
    "collapsed": false,
    "language": "python",
    "name": "format_text",
    "resultHeight": 423
   },
   "outputs": [],
   "source": [
    "earnings_data = session.sql('''SELECT GET_PRESIGNED_URL('@DOCUMENT_AI.INFOGRAPHICS',RELATIVE_PATH)IMAGE,RELATIVE_PATH,METADATA FROM DOCUMENT_AI.INFOGRAPHICS''')\n",
    "\n",
    "earnings_formatted = earnings_data.with_column('1M_CUSTOMERS',col('METADATA')['1M_CUSTOMERS'][0]['value'].astype(StringType()))\n",
    "earnings_formatted = earnings_formatted.with_column('GLOBAL_2000_CUSTOMERS',col('METADATA')['GLOBAL_2000_CUSTOMERS'][0]['value'].astype(StringType()))\n",
    "earnings_formatted = earnings_formatted.with_column('NET_PROMOTOR',col('METADATA')['NET_PROMOTOR'][0]['value'].astype(StringType()))\n",
    "earnings_formatted = earnings_formatted.with_column('DRESNER_CUSTOMER_SATISFACTION',col('METADATA')['dresner_customer_satisfaction'][0]['value'].astype(StringType()))\n",
    "earnings_formatted = earnings_formatted.with_column('NET_REVENUE_RETENTION',col('METADATA')['NET_REVENUE_RETENTION'][0]['value'].astype(StringType()))\n",
    "earnings_formatted = earnings_formatted.with_column('PRODUCT REVENUE',col('METADATA')['PROD_REVENUE'][0]['value'].astype(StringType()))\n",
    "earnings_formatted = earnings_formatted.with_column('TOTAL_CUSTOMERS',col('METADATA')['TOTAL_CUSTOMERS'][0]['value'].astype(StringType()))\n",
    "earnings_formatted = earnings_formatted.with_column('TOTAL_CUSTOMERS',col('METADATA')['TOTAL_CUSTOMERS'][0]['value'].astype(StringType()))\n",
    "earnings_formatted = earnings_formatted.with_column('DATE_OF_REPORT',col('METADATA')['date_of_report'][0]['value'].astype(StringType()))\n",
    "earnings_formatted = earnings_formatted.with_column('MARKETPLACE_LISTINGS',col('METADATA')['marketplace_listings'][0]['value'].astype(StringType()))\n",
    "earnings_formatted = earnings_formatted.with_column('QUARTER',col('METADATA')['quarter'][0]['value'].astype(StringType()))\n",
    "earnings_formatted = earnings_formatted.with_column('YEAR',col('METADATA')['year'][0]['value'].astype(StringType())).drop('METADATA')\n",
    "\n",
    "\n",
    "st.dataframe(\n",
    "    earnings_formatted,\n",
    "    column_config={\n",
    "        \"IMAGE\": st.column_config.ImageColumn(\n",
    "            \"Preview Image\", help=\"Snowflake infographic\"\n",
    "        )\n",
    "    },\n",
    "    hide_index=True,\n",
    ")"
   ]
  },
  {
   "cell_type": "markdown",
   "id": "1f11f151-2ce1-4f73-b268-90402092ad06",
   "metadata": {
    "collapsed": false,
    "name": "heading_date_formatter",
    "resultHeight": 47
   },
   "source": [
    "#### Use Cortex Complete for a simple date formatter\n",
    "So we can now see the results in a table.  You may want to re train with new infogtraphics for better accuracy.  You will notice that the dates are of differing formats.  Next we will use cortex complete to return the date to a consistant format"
   ]
  },
  {
   "cell_type": "code",
   "execution_count": null,
   "id": "09036d2b-6535-4909-b673-311922bb26e5",
   "metadata": {
    "collapsed": false,
    "language": "python",
    "name": "create_llm_date_parser",
    "resultHeight": 112
   },
   "outputs": [],
   "source": [
    "def cortex_date(date_string):\n",
    "    return call_function('SNOWFLAKE.CORTEX.COMPLETE','reka-flash',\n",
    "                         concat(lit('return the following which can be parsed as a date in this format YYYY-MM-DD.  ONLY RETURN THE RESULT'),\n",
    "                                lit(date_string)))\n",
    "\n",
    "session.create_dataframe([{'DATE':'test'}]).with_column('DATE',cortex_date('April 30, 2022'))"
   ]
  },
  {
   "cell_type": "markdown",
   "id": "b9151be8-8bda-4cae-83f7-2af19c04da48",
   "metadata": {
    "collapsed": false,
    "name": "numeric_characters"
   },
   "source": [
    "### Keep only Numeric Characters\n",
    "Some of the fields which would work best as numeric fields have other characters.  Using the **regex_replace** function handles this to keep all numeric fields consistant."
   ]
  },
  {
   "cell_type": "code",
   "execution_count": null,
   "id": "fe3befcc-b1f7-4342-be43-0087b807dc7b",
   "metadata": {
    "collapsed": false,
    "language": "sql",
    "name": "keep_only_numeric"
   },
   "outputs": [],
   "source": [
    "CREATE OR REPLACE FUNCTION NUMBERS(input_string STRING)\n",
    "RETURNS STRING\n",
    "LANGUAGE SQL\n",
    "AS\n",
    "$$\n",
    "    REGEXP_REPLACE(input_string, '[^0-9]', '')\n",
    "$$;"
   ]
  },
  {
   "cell_type": "markdown",
   "id": "2381c998-c7ec-4382-83f8-c66ac6d3430e",
   "metadata": {
    "collapsed": false,
    "name": "apply_numbers_function"
   },
   "source": [
    "Let's apply this to our structured data results"
   ]
  },
  {
   "cell_type": "code",
   "execution_count": null,
   "id": "f3d68ce4-6224-429f-977f-a30c849b06d6",
   "metadata": {
    "collapsed": false,
    "language": "python",
    "name": "cell1"
   },
   "outputs": [],
   "source": [
    "earnings_formatted_s = session.table('DOCUMENT_AI.INFOGRAPHICS')\n",
    "earnings_formatted_2 = earnings_formatted_s.with_column('IMAGE',call_function('GET_PRESIGNED_URL',\n",
    "                                                                              lit('@DOCUMENT_AI.INFOGRAPHICS'),\n",
    "                                                                              col('RELATIVE_PATH'))).cache_result()\n",
    "earnings_formatted_2 = earnings_formatted_2.with_column('1M_CUSTOMERS',\n",
    "            call_function('DOCUMENT_AI.NUMBERS',col('METADATA')['1M_CUSTOMERS'][0]['value']).astype(IntegerType()))\\\n",
    ".with_column('GLOBAL_2000_CUSTOMERS',call_function('DOCUMENT_AI.NUMBERS',col('METADATA')['GLOBAL_2000_CUSTOMERS'][0]['value']).astype(IntegerType()))\\\n",
    ".with_column('NET_PROMOTOR',call_function('DOCUMENT_AI.NUMBERS',col('METADATA')['NET_PROMOTOR'][0]['value']).astype(IntegerType()))\\\n",
    ".with_column('DRESNER_CUSTOMER_SATISFACTION',call_function('DOCUMENT_AI.NUMBERS',col('METADATA')['dresner_customer_satisfaction'][0]['value']).astype(IntegerType()))\\\n",
    ".with_column('NET_REVENUE_RETENTION',call_function('DOCUMENT_AI.NUMBERS',col('METADATA')['NET_REVENUE_RETENTION'][0]['value']).astype(IntegerType()))\\\n",
    ".with_column('PRODUCT REVENUE',col('METADATA')['PROD_REVENUE'][0]['value'].astype(StringType()))\\\n",
    ".with_column('TOTAL_CUSTOMERS',col('METADATA')['TOTAL_CUSTOMERS'][0]['value'].astype(StringType()))\\\n",
    ".with_column('DATE_OF_REPORT',cortex_date(col('METADATA')['date_of_report'][0]['value']).astype(DateType()))\\\n",
    ".with_column('MARKETPLACE_LISTINGS',call_function('DOCUMENT_AI.NUMBERS',col('METADATA')['marketplace_listings'][0]['value']).astype(IntegerType()))\\\n",
    ".with_column('QUARTER',col('METADATA')['quarter'][0]['value'].astype(StringType()))\\\n",
    ".with_column('YEAR',col('METADATA')['year'][0]['value'].astype(StringType()))\\\n",
    ".with_column('PRODUCT REVENUE',call_function('DOCUMENT_AI.NUMBERS',col('PRODUCT REVENUE')).astype(DecimalType(6,1)))\\\n",
    ".with_column('TOTAL_CUSTOMERS',call_function('DOCUMENT_AI.NUMBERS',col('TOTAL_CUSTOMERS')).astype(IntegerType()))\\\n",
    ".with_column('MARKETPLACE_LISTINGS',call_function('DOCUMENT_AI.NUMBERS',col('MARKETPLACE_LISTINGS')).astype(IntegerType()))\\\n",
    ".with_column('NET_REVENUE_RETENTION',call_function('DOCUMENT_AI.NUMBERS',col('NET_REVENUE_RETENTION')).astype(IntegerType()))\\\n",
    ".with_column('NET_PROMOTOR',call_function('DOCUMENT_AI.NUMBERS',col('NET_PROMOTOR')).astype(IntegerType()))\\\n",
    ".with_column('GLOBAL_2000_CUSTOMERS',call_function('DOCUMENT_AI.NUMBERS',col('GLOBAL_2000_CUSTOMERS')).astype(IntegerType()))\\\n",
    ".with_column('1M_CUSTOMERS',call_function('DOCUMENT_AI.NUMBERS',col('1M_CUSTOMERS')).astype(IntegerType()))\\\n",
    ".drop('RELATIVE_PATH','STAGE','METADATA')\n",
    "\n",
    "earnings_formatted_2.write.mode('overwrite').save_as_table(\"DOCUMENT_AI.EARNINGS_INFOGRAPHIC_PARSED\")\n",
    "\n",
    "earnings_formatted_2 = session.table('DOCUMENT_AI.EARNINGS_INFOGRAPHIC_PARSED')"
   ]
  },
  {
   "cell_type": "markdown",
   "id": "9f15a36a-476b-4070-adc0-2adb0d6a7627",
   "metadata": {
    "collapsed": false,
    "name": "View_reporting_info"
   },
   "source": [
    "Finally we will view the Snowflake reporting information in a Streamlit app."
   ]
  },
  {
   "cell_type": "code",
   "execution_count": null,
   "id": "59f1bb3f-d9ff-424d-b681-23a00c63bb64",
   "metadata": {
    "codeCollapsed": false,
    "collapsed": false,
    "language": "python",
    "name": "refined_view",
    "resultHeight": 2003
   },
   "outputs": [],
   "source": [
    "st.markdown('### Recent Earnings infographics for SNOW')\n",
    "\n",
    "st.markdown('#### KEY METRICS')\n",
    "col1,col2,col3 = st.columns(3)\n",
    "with col1:\n",
    "    st.markdown('#### PRODUCT REVENUE')\n",
    "    st.line_chart(earnings_formatted_2.to_pandas(),x='QUARTER',y='PRODUCT REVENUE', color='YEAR')\n",
    "with col2:\n",
    "    st.markdown('#### TOTAL CUSTOMERS')\n",
    "    st.line_chart(earnings_formatted_2.to_pandas(),x='QUARTER',y='TOTAL_CUSTOMERS', color='YEAR')\n",
    "with col3:\n",
    "    st.markdown('#### MARKETPLACE LISTINGS')\n",
    "    st.line_chart(earnings_formatted_2.to_pandas(),x='QUARTER',y='MARKETPLACE_LISTINGS',color='YEAR')\n",
    "st.divider()\n",
    "st.markdown('#### ALL EXTRACTED DATA')\n",
    "st.dataframe(\n",
    "    earnings_formatted_2,\n",
    "    column_config={\n",
    "        \"IMAGE\": st.column_config.ImageColumn(\n",
    "            \"Preview Image\", help=\"Snowflake infographic\"\n",
    "        )\n",
    "    },\n",
    "    hide_index=True,\n",
    ")\n",
    "\n",
    "\n",
    "st.divider()\n",
    "st.markdown('#### ORIGINAL INFOGRAPHIC')\n",
    "col1, col2 = st.columns(2)\n",
    "\n",
    "\n",
    "with col1:\n",
    "    selected_year = st.selectbox('Choose Year:',earnings_formatted_2.select('YEAR').distinct().sort(col('YEAR').desc()))\n",
    "with col2:\n",
    "    selected_quarter = st.selectbox('Choose Quarter:',earnings_formatted_2.filter(col('YEAR')==selected_year).select('QUARTER').distinct().sort('QUARTER'))\n",
    "\n",
    "\n",
    "\n",
    "\n",
    "\n",
    "st.image(earnings_formatted_2.filter((col('QUARTER')==selected_quarter)\n",
    "                                  &(col('YEAR')==selected_year)).select('IMAGE').limit(1).collect()[0][0])\n"
   ]
  }
 ],
 "metadata": {
  "kernelspec": {
   "display_name": "Streamlit Notebook",
   "name": "streamlit"
  },
  "lastEditStatus": {
   "authorEmail": "becky.oconnor@snowflake.com",
   "authorId": "2656583713627",
   "authorName": "USER",
   "lastEditTime": 1741299737149,
   "notebookId": "e46gn3b7fbg4ibeyyyhf",
   "sessionId": "95938984-92a9-4697-b384-70f6bee657f7"
  }
 },
 "nbformat": 4,
 "nbformat_minor": 5
}
