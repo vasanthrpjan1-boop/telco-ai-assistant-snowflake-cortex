{
 "metadata": {
  "kernelspec": {
   "display_name": "Streamlit Notebook",
   "name": "streamlit"
  },
  "lastEditStatus": {
   "notebookId": "yyuqyaqabbbflwf2mkbs",
   "authorId": "3843495225666",
   "authorName": "USER",
   "authorEmail": "becky.oconnor@snowflake.com",
   "sessionId": "f2e814f9-32f2-47b5-90e5-0e10b80ce309",
   "lastEditTime": 1741393751483
  }
 },
 "nbformat_minor": 5,
 "nbformat": 4,
 "cells": [
  {
   "cell_type": "markdown",
   "id": "0c9ba374-cd85-415e-b3e5-a9e862c9d395",
   "metadata": {
    "name": "title",
    "collapsed": false,
    "resultHeight": 74
   },
   "source": "## Section 6 - Create a Search Service\nCreate a Search Service to search for all unstructured data"
  },
  {
   "cell_type": "markdown",
   "id": "01b48faa-a814-4ecf-8d63-0cfc6a9d6fa6",
   "metadata": {
    "name": "reminder_chunked_analyst_reports",
    "collapsed": false
   },
   "source": "This is a reminder, we have already processed unstructured data from the analyst reports"
  },
  {
   "cell_type": "code",
   "id": "326eb127-64b5-4c5b-b6ba-7b5d9a09e564",
   "metadata": {
    "language": "sql",
    "name": "VIEW_ALL_CHUNKED",
    "resultHeight": 0,
    "collapsed": false
   },
   "outputs": [],
   "source": "SELECT * FROM DOCUMENT_AI.ANALYST_REPORTS_CHUNKED;",
   "execution_count": null
  },
  {
   "cell_type": "markdown",
   "id": "cc5a9c4e-7447-454f-ad07-2a2e0c16a8d0",
   "metadata": {
    "name": "sound_transcripts",
    "collapsed": false,
    "resultHeight": 46
   },
   "source": "We have also transcribed the earnings calls, and grouped them together to form larger chunks"
  },
  {
   "cell_type": "code",
   "id": "d032d9cc-748f-46e0-ad71-53ce177acc7b",
   "metadata": {
    "language": "sql",
    "name": "shared_transcripts",
    "resultHeight": 439,
    "collapsed": false
   },
   "outputs": [],
   "source": "SELECT * FROM DEFAULT_SCHEMA.summary_text;",
   "execution_count": null
  },
  {
   "cell_type": "markdown",
   "id": "c250d1ab-a2ec-4e4e-a48e-ae13b2e2780e",
   "metadata": {
    "name": "create_view",
    "collapsed": false
   },
   "source": "Let's now create a view which standardised the results in order to combine with the analyst reports.  A document type has also been added for deterministic type of filtering where necessary."
  },
  {
   "cell_type": "code",
   "id": "872417b8-d830-42f6-87ef-a6d1c707293b",
   "metadata": {
    "language": "sql",
    "name": "sound_data",
    "collapsed": false,
    "resultHeight": 182
   },
   "outputs": [],
   "source": "CREATE VIEW IF NOT EXISTS DEFAULT_SCHEMA.EARNINGS_CALLS_FORMATTED AS \nSELECT RELATIVE_PATH, 'NA' RATING, 'NA' DATE_REPORT, 'NA' NAME_OF_REPORT_PROVIDER,  ['EARNINGS_CALLS'] DOCUMENT_TYPE,RELATIVE_PATH DOCUMENT, \nTEXT,REPLACE(REPLACE(REPLACE(REPLACE(RELATIVE_PATH,'EARNINGS_',''),'.mp3',''),'_',''),'FY20','FY')::ARRAY PERIOD, SENTIMENT FROM DEFAULT_SCHEMA.summary_text;\n\nSELECT * FROM DEFAULT_SCHEMA.EARNINGS_CALLS_FORMATTED limit 10",
   "execution_count": null
  },
  {
   "cell_type": "markdown",
   "id": "f7a8ba8a-4be4-492b-9ad8-c99023d4c117",
   "metadata": {
    "name": "union_results",
    "collapsed": false
   },
   "source": "Next, you will union the earnings calls with the analyst reports"
  },
  {
   "cell_type": "code",
   "id": "898dbe79-1555-4691-a2b7-cee1f144d10f",
   "metadata": {
    "language": "sql",
    "name": "union_text_sound",
    "collapsed": false,
    "resultHeight": 112
   },
   "outputs": [],
   "source": "CREATE TABLE IF NOT EXISTS DEFAULT_SCHEMA.TEXT_AND_SOUND AS \n\nselect * from DEFAULT_SCHEMA.EARNINGS_CALLS_FORMATTED\n\nUNION ALL\n\nSELECT * FROM DOCUMENT_AI.ANALYST_REPORTS_CHUNKED",
   "execution_count": null
  },
  {
   "cell_type": "markdown",
   "id": "ac9b52fb-4b1b-4c82-be72-6ece4c19b892",
   "metadata": {
    "name": "cell3",
    "collapsed": false,
    "resultHeight": 46
   },
   "source": "### CREATE A SEARCH SERVICE\nNow, let's create a search service"
  },
  {
   "cell_type": "code",
   "id": "0495d240-6d11-4faf-be9a-85eb05f0c92c",
   "metadata": {
    "language": "sql",
    "name": "viewing_single_chunk",
    "resultHeight": 0,
    "collapsed": false
   },
   "outputs": [],
   "source": "CREATE OR REPLACE  CORTEX SEARCH SERVICE DEFAULT_SCHEMA.CHUNKED_REPORTS\n  ON TEXT\n  ATTRIBUTES DOCUMENT_TYPE,PERIOD\n  WAREHOUSE = DEFAULT_WH\n  TARGET_LAG = '1 hour'\n  COMMENT = 'SEARCH SERVICE FOR REPORTS - CHUNKED'\n  AS SELECT * FROM DEFAULT_SCHEMA.TEXT_AND_SOUND;",
   "execution_count": null
  },
  {
   "cell_type": "code",
   "id": "63ee9eb8-5a47-4c68-b533-cb0c24080b9d",
   "metadata": {
    "language": "sql",
    "name": "view_search_service",
    "resultHeight": 112,
    "collapsed": false
   },
   "outputs": [],
   "source": "USE SCHEMA DEFAULT_SCHEMA;\nSHOW CORTEX SEARCH SERVICES",
   "execution_count": null
  },
  {
   "cell_type": "markdown",
   "id": "eee01e13-69dd-4ad8-a133-6883202f228b",
   "metadata": {
    "name": "cortex_search_streamlit",
    "collapsed": false
   },
   "source": "Now you have created the search service, you can now go to **Projects > Streamlits > CORTEX_SEARCH** to see the search tool in action."
  }
 ]
}