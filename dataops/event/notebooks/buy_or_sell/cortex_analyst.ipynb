{
 "metadata": {
  "kernelspec": {
   "display_name": "Streamlit Notebook",
   "name": "streamlit"
  },
  "lastEditStatus": {
   "notebookId": "6qv7ygmmknih236kwow3",
   "authorId": "6192010279429",
   "authorName": "USER",
   "authorEmail": "becky.oconnor@snowflake.com",
   "sessionId": "df8449e2-f29a-4728-878a-caf73c04bb9b",
   "lastEditTime": 1741361271444
  }
 },
 "nbformat_minor": 5,
 "nbformat": 4,
 "cells": [
  {
   "cell_type": "markdown",
   "id": "0c9ba374-cd85-415e-b3e5-a9e862c9d395",
   "metadata": {
    "name": "title",
    "collapsed": false,
    "resultHeight": 74
   },
   "source": "# Section 3 - Cortex Analyst\n### What do we know about Snowflake?\nReview the stock information which is based on data you have gathered from the marketplace by running the following code below"
  },
  {
   "cell_type": "code",
   "id": "2f5349a5-4153-47a2-b060-6de09c65e1cf",
   "metadata": {
    "language": "sql",
    "name": "look_data_market_place",
    "resultHeight": 0,
    "collapsed": false
   },
   "outputs": [],
   "source": "CREATE OR REPLACE VIEW DEFAULT_SCHEMA.STOCK_PRICES \n\nAS \n\nSELECT \n\n\nTICKER,\nASSET_CLASS,\nPRIMARY_EXCHANGE_CODE,\nPRIMARY_EXCHANGE_NAME,\nDATE,\n\"'all-day_high'\" ALL_DAY_HIGH,\n\"'all-day_low'\" ALL_DAY_LOW,\n\"'nasdaq_volume'\" NASDAQ_VOLUME,\n\"'post-market_close'\" POST_MARKET_CLOSE,\n\"'pre-market_open'\" PRE_MARKET_OPEN,\nYEAR(DATE)::text YEAR,\nMONTHNAME(DATE)MONTHNAME, MONTH(DATE) MONTHNO FROM (\nSELECT * EXCLUDE VARIABLE_NAME\nFROM FINANCE__ECONOMICS.CYBERSYN.STOCK_PRICE_TIMESERIES)\n\n\nPIVOT (SUM(value) FOR VARIABLE IN (ANY ORDER BY VARIABLE));\nSELECT * FROM DEFAULT_SCHEMA.STOCK_PRICES WHERE TICKER = 'SNOW'    LIMIT 5",
   "execution_count": null
  },
  {
   "cell_type": "markdown",
   "id": "7b285932-0664-4a60-8da5-d4dbc400e1a0",
   "metadata": {
    "name": "SNOWFLAKE_SHARE_PRICES",
    "collapsed": false,
    "resultHeight": 102
   },
   "source": "## 3a - Analysing Market Place Shareprice Trends the traditional way\nRun the cell below to see how this looks like as a Streamlit dashboard"
  },
  {
   "cell_type": "code",
   "id": "894a2c7d-a324-4517-a878-d6bdc7b26677",
   "metadata": {
    "language": "python",
    "name": "VIZ_SHARE_PRICES",
    "collapsed": true,
    "resultHeight": 0,
    "codeCollapsed": false
   },
   "outputs": [],
   "source": "# Import python packages\nimport streamlit as st\nimport pandas as pd\n\nfrom snowflake.snowpark.functions import *\nfrom snowflake.snowpark.types import *\n\n# We can also use Snowpark for our analyses!\nfrom snowflake.snowpark.context import get_active_session\nsession = get_active_session()\ndefault_ticker = 'SNOW'\nst.markdown(f' #### {default_ticker} - STOCK MARKET PATTERNS')\n\nsdate = st.number_input('Choose Year:',2020,2024,2024)\nstock_table = session.table('FINANCE__ECONOMICS.CYBERSYN.STOCK_PRICE_TIMESERIES').filter(year('DATE')==sdate)\n\ndef stock_metric(variable, ticker):\n    stocks = stock_table.filter((col('TICKER')==ticker) & (col('VARIABLE')==variable))\n    stocks = stocks.group_by(col('DATE')).agg(min('VALUE').alias('VALUE')).order_by('DATE')\n    return st.line_chart(stocks, y='VALUE',x='DATE', color = '#29B5E8')\n\n\nticker_list = stock_table.select(col('TICKER')).distinct().to_pandas()['TICKER'].tolist()\ndefault_index = ticker_list.index(default_ticker) if default_ticker in ticker_list else 0\n\nticker = st.selectbox('Select Ticker:',stock_table.select(col('TICKER')).distinct().to_pandas(),default_index)\n\ncol1,col2,col3 = st.columns(3)\n\nwith col1:\n    st.markdown('#### ALL DAY HIGH')\n    stock_metric('all-day_high',ticker)\nwith col2:\n    st.markdown('#### ALL DAY LOW')\n    stock_metric('all-day_low',ticker)\nwith col3:\n    st.markdown('#### NASDAQ VOLUME')\n    stock_metric('nasdaq_volume',ticker)\n\ncol1,col2 = st.columns(2)\nwith col1:\n    st.markdown('#### PRE MARKET OPEN')\n    stock_metric('pre-market_open',ticker)\nwith col2:\n    st.markdown('#### POST MARKET CLOSE')\n    stock_metric('post-market_close',ticker)\n\nst.markdown('''You will see that you can get lots of information in a dashboard - streamlit makes this capabilty very flexible.\n\nHowever, some users want to be able to answer ad-hoc questions without having to create a new\ndashboard or waiting for a new improved dashboard to be built.  This is where **Cortex Analyst** comes into play\n\nPlase go to to Step 3 in the lab instructions to find out how **Cortex Analyst** works''')",
   "execution_count": null
  }
 ]
}