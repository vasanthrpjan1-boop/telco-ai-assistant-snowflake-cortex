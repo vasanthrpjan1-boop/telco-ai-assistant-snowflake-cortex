{
 "cells": [
  {
   "cell_type": "markdown",
   "id": "0c9ba374-cd85-415e-b3e5-a9e862c9d395",
   "metadata": {
    "collapsed": false,
    "name": "title",
    "resultHeight": 74
   },
   "source": [
    "# Section 3 - Cortex Analyst\n",
    "### What do we know about Snowflake?\n",
    "Review the stock information which is based on data you have gathered from the marketplace by running the following code below"
   ]
  },
  {
   "cell_type": "code",
   "execution_count": null,
   "id": "2f5349a5-4153-47a2-b060-6de09c65e1cf",
   "metadata": {
    "collapsed": false,
    "language": "sql",
    "name": "look_data_market_place",
    "resultHeight": 0
   },
   "outputs": [],
   "source": [
    "CREATE OR REPLACE TABLE DEFAULT_SCHEMA.STOCK_PRICES \n",
    "\n",
    "AS\n",
    "\n",
    "SELECT \n",
    "\n",
    "\n",
    "TICKER,\n",
    "ASSET_CLASS,\n",
    "PRIMARY_EXCHANGE_CODE,\n",
    "PRIMARY_EXCHANGE_NAME,\n",
    "DATE,\n",
    "\"'all-day_high'\" ALL_DAY_HIGH,\n",
    "\"'all-day_low'\" ALL_DAY_LOW,\n",
    "\"'nasdaq_volume'\" NASDAQ_VOLUME,\n",
    "\"'post-market_close'\" POST_MARKET_CLOSE,\n",
    "\"'pre-market_open'\" PRE_MARKET_OPEN,\n",
    "YEAR(DATE)::text YEAR,\n",
    "MONTHNAME(DATE)MONTHNAME, MONTH(DATE) MONTHNO FROM (\n",
    "SELECT * EXCLUDE VARIABLE_NAME\n",
    "FROM FINANCE__ECONOMICS.CYBERSYN.STOCK_PRICE_TIMESERIES)\n",
    "\n",
    "\n",
    "PIVOT (SUM(value) FOR VARIABLE IN (ANY ORDER BY VARIABLE));\n",
    "SELECT * FROM DEFAULT_SCHEMA.STOCK_PRICES WHERE TICKER = 'SNOW'    LIMIT 5"
   ]
  },
  {
   "cell_type": "markdown",
   "id": "7b285932-0664-4a60-8da5-d4dbc400e1a0",
   "metadata": {
    "collapsed": false,
    "name": "SNOWFLAKE_SHARE_PRICES",
    "resultHeight": 102
   },
   "source": [
    "## 3a - Analysing Market Place Shareprice Trends the traditional way\n",
    "Run the cell below to see how this looks like as a Streamlit dashboard"
   ]
  },
  {
   "cell_type": "code",
   "execution_count": null,
   "id": "894a2c7d-a324-4517-a878-d6bdc7b26677",
   "metadata": {
    "codeCollapsed": false,
    "collapsed": true,
    "language": "python",
    "name": "VIZ_SHARE_PRICES",
    "resultHeight": 0
   },
   "outputs": [],
   "source": [
    "# Import python packages\n",
    "import streamlit as st\n",
    "import pandas as pd\n",
    "\n",
    "from snowflake.snowpark.functions import *\n",
    "from snowflake.snowpark.types import *\n",
    "\n",
    "# We can also use Snowpark for our analyses!\n",
    "from snowflake.snowpark.context import get_active_session\n",
    "session = get_active_session()\n",
    "default_ticker = 'SNOW'\n",
    "st.markdown(f' #### {default_ticker} - STOCK MARKET PATTERNS')\n",
    "\n",
    "sdate = st.number_input('Choose Year:',2020,2024,2024)\n",
    "stock_table = session.table('FINANCE__ECONOMICS.CYBERSYN.STOCK_PRICE_TIMESERIES').filter(year('DATE')==sdate)\n",
    "\n",
    "def stock_metric(variable, ticker):\n",
    "    stocks = stock_table.filter((col('TICKER')==ticker) & (col('VARIABLE')==variable))\n",
    "    stocks = stocks.group_by(col('DATE')).agg(min('VALUE').alias('VALUE')).order_by('DATE')\n",
    "    return st.line_chart(stocks, y='VALUE',x='DATE', color = '#29B5E8')\n",
    "\n",
    "\n",
    "ticker_list = stock_table.select(col('TICKER')).distinct().to_pandas()['TICKER'].tolist()\n",
    "default_index = ticker_list.index(default_ticker) if default_ticker in ticker_list else 0\n",
    "\n",
    "ticker = st.selectbox('Select Ticker:',stock_table.select(col('TICKER')).distinct().to_pandas(),default_index)\n",
    "\n",
    "col1,col2,col3 = st.columns(3)\n",
    "\n",
    "with col1:\n",
    "    st.markdown('#### ALL DAY HIGH')\n",
    "    stock_metric('all-day_high',ticker)\n",
    "with col2:\n",
    "    st.markdown('#### ALL DAY LOW')\n",
    "    stock_metric('all-day_low',ticker)\n",
    "with col3:\n",
    "    st.markdown('#### NASDAQ VOLUME')\n",
    "    stock_metric('nasdaq_volume',ticker)\n",
    "\n",
    "col1,col2 = st.columns(2)\n",
    "with col1:\n",
    "    st.markdown('#### PRE MARKET OPEN')\n",
    "    stock_metric('pre-market_open',ticker)\n",
    "with col2:\n",
    "    st.markdown('#### POST MARKET CLOSE')\n",
    "    stock_metric('post-market_close',ticker)\n",
    "\n",
    "st.markdown('''You will see that you can get lots of information in a dashboard - streamlit makes this capabilty very flexible.\n",
    "\n",
    "However, some users want to be able to answer ad-hoc questions without having to create a new\n",
    "dashboard or waiting for a new improved dashboard to be built.  This is where **Cortex Analyst** comes into play\n",
    "\n",
    "Plase go to to Step 3 in the lab instructions to find out how **Cortex Analyst** works''')"
   ]
  }
 ],
 "metadata": {
  "kernelspec": {
   "display_name": "Streamlit Notebook",
   "name": "streamlit"
  },
  "lastEditStatus": {
   "authorEmail": "becky.oconnor@snowflake.com",
   "authorId": "6192010279429",
   "authorName": "USER",
   "lastEditTime": 1741361271444,
   "notebookId": "6qv7ygmmknih236kwow3",
   "sessionId": "df8449e2-f29a-4728-878a-caf73c04bb9b"
  }
 },
 "nbformat": 4,
 "nbformat_minor": 5
}
